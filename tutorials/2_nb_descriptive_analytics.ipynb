{
 "cells": [
  {
   "cell_type": "markdown",
   "metadata": {},
   "source": [
    "[![Open In Colab](https://colab.research.google.com/assets/colab-badge.svg)](https://colab.research.google.com/github/Humboldt-WI/bads/blob/master/tutorials/2_nb_descriptive_analytics.ipynb) "
   ]
  },
  {
   "cell_type": "markdown",
   "metadata": {
    "id": "_55XGJ5Krxox"
   },
   "source": [
    "# Chapter 2 - Foundations of descriptive analytics\n",
    "The second lecture has offered an overview of the field of descriptive analytics. Out of the space of methods for descriptive analytics, the lecture concentrated on cluster analysis. Given this focus in the lecture, the tutorial will revisit the **kMeans** algorithm and deepen our understanding how it segments a given data set. This will also help us to introduce some more Python functionality and further develop our understanding of Python programming and relevant libraries. \n",
    "\n",
    "*Need to remember that Notebooks are a blend of text, and code, and results*\n",
    "\n",
    "Here is the outline of the tutorial:\n",
    "*   Generating data for cluster analysis \n",
    "*   kMeans Algorithm from Scratch\n",
    "*   kMeans Algorithm using sklearn\n",
    "*   Finding the optimal \"k\""
   ]
  },
  {
   "cell_type": "markdown",
   "metadata": {
    "id": "o-wD7vGxHFa5"
   },
   "source": [
    "# Cluster Analysis\n",
    "\n",
    "Cluster analysis is a good example of unsupervised machine learning or machine learning with unlabelled data (no specified target variable). Unsupervised learning algorithms attempt to group observations based on their similarities in features values. In the end, we can try to describe clusters and how they differ from one another. That task, however, is not supported by the algorithm and requires domain expertise. \n",
    "\n",
    "An example of this application could be analyzing data from a survey. We may have several distinct groups of potential buyers who reveal distinct preferences through their choices. Cluster analysis can be applied based on their choices to group similar responses and we can then characterize groups to determine marketing efforts."
   ]
  },
  {
   "cell_type": "markdown",
   "metadata": {
    "id": "d8BjFh5UsQel"
   },
   "source": [
    "## Data Generation for cluster analysis\n",
    "\n",
    "In order to verify that this method of analysis works, we can generate data using sklearn. The function `make_blob()` allows us to create a data for clustering. In a nutshell, we generate data from two Gaussian distribution. The function allows specifying the parameters of these Gaussians. This way, we can decide how similar how dissimilar or dissimilar we want our data to be. Have a look at the [documentation](https://scikit-learn.org/stable/modules/generated/sklearn.datasets.make_blobs.html) of appreciate the full functionality of the function. "
   ]
  },
  {
   "cell_type": "code",
   "execution_count": 1,
   "metadata": {
    "id": "whNm-Zlud3WV"
   },
   "outputs": [],
   "source": [
    "import numpy as np\n",
    "import matplotlib.pyplot as plt\n",
    "import pandas as pd\n",
    "from sklearn.datasets import make_blobs\n",
    "\n",
    "np.random.seed(888)"
   ]
  },
  {
   "cell_type": "code",
   "execution_count": 3,
   "metadata": {},
   "outputs": [
    {
     "name": "stdout",
     "output_type": "stream",
     "text": [
      "Help on function make_blobs in module sklearn.datasets._samples_generator:\n",
      "\n",
      "make_blobs(n_samples=100, n_features=2, *, centers=None, cluster_std=1.0, center_box=(-10.0, 10.0), shuffle=True, random_state=None, return_centers=False)\n",
      "    Generate isotropic Gaussian blobs for clustering.\n",
      "    \n",
      "    Read more in the :ref:`User Guide <sample_generators>`.\n",
      "    \n",
      "    Parameters\n",
      "    ----------\n",
      "    n_samples : int or array-like, optional (default=100)\n",
      "        If int, it is the total number of points equally divided among\n",
      "        clusters.\n",
      "        If array-like, each element of the sequence indicates\n",
      "        the number of samples per cluster.\n",
      "    \n",
      "        .. versionchanged:: v0.20\n",
      "            one can now pass an array-like to the ``n_samples`` parameter\n",
      "    \n",
      "    n_features : int, optional (default=2)\n",
      "        The number of features for each sample.\n",
      "    \n",
      "    centers : int or array of shape [n_centers, n_features], optional\n",
      "        (default=None)\n",
      "        The number of centers to generate, or the fixed center locations.\n",
      "        If n_samples is an int and centers is None, 3 centers are generated.\n",
      "        If n_samples is array-like, centers must be\n",
      "        either None or an array of length equal to the length of n_samples.\n",
      "    \n",
      "    cluster_std : float or sequence of floats, optional (default=1.0)\n",
      "        The standard deviation of the clusters.\n",
      "    \n",
      "    center_box : pair of floats (min, max), optional (default=(-10.0, 10.0))\n",
      "        The bounding box for each cluster center when centers are\n",
      "        generated at random.\n",
      "    \n",
      "    shuffle : boolean, optional (default=True)\n",
      "        Shuffle the samples.\n",
      "    \n",
      "    random_state : int, RandomState instance, default=None\n",
      "        Determines random number generation for dataset creation. Pass an int\n",
      "        for reproducible output across multiple function calls.\n",
      "        See :term:`Glossary <random_state>`.\n",
      "    \n",
      "    return_centers : bool, optional (default=False)\n",
      "        If True, then return the centers of each cluster\n",
      "    \n",
      "        .. versionadded:: 0.23\n",
      "    \n",
      "    Returns\n",
      "    -------\n",
      "    X : array of shape [n_samples, n_features]\n",
      "        The generated samples.\n",
      "    \n",
      "    y : array of shape [n_samples]\n",
      "        The integer labels for cluster membership of each sample.\n",
      "    \n",
      "    centers : array, shape [n_centers, n_features]\n",
      "        The centers of each cluster. Only returned if\n",
      "        ``return_centers=True``.\n",
      "    \n",
      "    Examples\n",
      "    --------\n",
      "    >>> from sklearn.datasets import make_blobs\n",
      "    >>> X, y = make_blobs(n_samples=10, centers=3, n_features=2,\n",
      "    ...                   random_state=0)\n",
      "    >>> print(X.shape)\n",
      "    (10, 2)\n",
      "    >>> y\n",
      "    array([0, 0, 1, 0, 2, 2, 2, 1, 1, 0])\n",
      "    >>> X, y = make_blobs(n_samples=[3, 3, 4], centers=None, n_features=2,\n",
      "    ...                   random_state=0)\n",
      "    >>> print(X.shape)\n",
      "    (10, 2)\n",
      "    >>> y\n",
      "    array([0, 1, 2, 0, 2, 2, 2, 1, 1, 0])\n",
      "    \n",
      "    See also\n",
      "    --------\n",
      "    make_classification: a more intricate variant\n",
      "\n"
     ]
    }
   ],
   "source": [
    "help(make_blobs)"
   ]
  },
  {
   "cell_type": "code",
   "execution_count": 4,
   "metadata": {
    "id": "A_daZwJTuzrj"
   },
   "outputs": [],
   "source": [
    "# Generate data in two dimensions using make_blobs:\n",
    "\n",
    "# Let us first specify some parameters. It is good practice to play with these and verify the effect of such changes\n",
    "n = 500 # no. samples\n",
    "centers = [(-2, -2), (2, 2)]  # centers of the two Gaussian: Add more random centers to generate more clusters \n",
    "std = 0.1  # standard deviaton\n",
    "\n",
    "# Call the function and obtain your data\n",
    "X, y = make_blobs(n_samples=n, centers=centers, cluster_std=std)"
   ]
  },
  {
   "cell_type": "code",
   "execution_count": 5,
   "metadata": {
    "colab": {
     "base_uri": "https://localhost:8080/"
    },
    "id": "cBv9f-9zvNsK",
    "outputId": "ba9e037d-34c1-4c64-d7bc-60add802228e"
   },
   "outputs": [
    {
     "data": {
      "text/plain": [
       "((500, 2), (500,))"
      ]
     },
     "execution_count": 5,
     "metadata": {},
     "output_type": "execute_result"
    }
   ],
   "source": [
    "X.shape, y.shape # ensure shape is as expected"
   ]
  },
  {
   "cell_type": "code",
   "execution_count": 6,
   "metadata": {
    "colab": {
     "base_uri": "https://localhost:8080/"
    },
    "id": "y6-pFsiVvMxI",
    "outputId": "213fb4df-014c-4028-ef58-fd052a4628b2"
   },
   "outputs": [
    {
     "data": {
      "text/plain": [
       "array([[ 1.94585212,  2.06341326],\n",
       "       [ 2.0789372 ,  2.01068834],\n",
       "       [-1.90239469, -2.06966711],\n",
       "       [-2.00126983, -2.15336304],\n",
       "       [ 1.9822441 ,  2.03231295]])"
      ]
     },
     "execution_count": 6,
     "metadata": {},
     "output_type": "execute_result"
    }
   ],
   "source": [
    "X[:5] # since X is a NumPy array, use slicing to inspect the data instead of .head() as we would for a pandas DataFrame"
   ]
  },
  {
   "cell_type": "markdown",
   "metadata": {
    "id": "4yyrAl7yMCsi"
   },
   "source": [
    "The function `make_blobs()` also provides a **true cluster assignment** for every data point in the array `y`. By the way we called that function, we have implicitly asked it to create data points for two different clusters. Make sure you understand how that has happened. Which part of the above code would we need to change and how to generate data from, say three different clusters? Check the documentation of `make_blobs()` and/or run a web search to answer this question. As always, it is good practice to play with out demo codes. Try generating and plotting data from three, four, or five different clusters."
   ]
  },
  {
   "cell_type": "code",
   "execution_count": 7,
   "metadata": {
    "colab": {
     "base_uri": "https://localhost:8080/"
    },
    "id": "rvHcRZSMQixu",
    "outputId": "d139f65b-f021-47cf-9b06-cbfeea96144f"
   },
   "outputs": [
    {
     "data": {
      "text/plain": [
       "array([1, 1, 0, 0, 1])"
      ]
     },
     "execution_count": 7,
     "metadata": {},
     "output_type": "execute_result"
    }
   ],
   "source": [
    "y[:5] # true cluster assignment for each data point"
   ]
  },
  {
   "cell_type": "markdown",
   "metadata": {
    "id": "uwdTYN3oMCsm"
   },
   "source": [
    "A picture says more than a thousand words, they say. So let's take a look at our data. Fortunately, we created two-dimensional data so plotting should be easy. We can make use of the variable `y` to color the plot. Recall that the array `y`, which is of the same length as X that specifies, for each data point, to which Gaussian (i.e., cluster) it belongs."
   ]
  },
  {
   "cell_type": "code",
   "execution_count": 8,
   "metadata": {
    "colab": {
     "base_uri": "https://localhost:8080/",
     "height": 265
    },
    "id": "dLKDDcECMCsm",
    "outputId": "04b87bf1-c6cf-4623-90ff-0ad4415f3e13"
   },
   "outputs": [
    {
     "data": {
      "image/png": "[encoded data removed]",
      "text/plain": [
       "<Figure size 432x288 with 1 Axes>"
      ]
     },
     "metadata": {
      "needs_background": "light"
     },
     "output_type": "display_data"
    }
   ],
   "source": [
    "plt.scatter(X[:,0],X[:,1], c=y);  # note the coloring of the data points using the label y"
   ]
  },
  {
   "cell_type": "markdown",
   "metadata": {
    "id": "pSq6MXgyMCsp"
   },
   "source": [
    "Ok, given the way in which we generated our data, kMeans should have an easy go with it. Play a bit with the parameters that we set above and inspect how the graph (i.e., the data) changes. You can make the clustering task easier or harder. \n",
    "\n",
    "Just for fun, we can also verify the (true) mean vectors."
   ]
  },
  {
   "cell_type": "code",
   "execution_count": 9,
   "metadata": {
    "colab": {
     "base_uri": "https://localhost:8080/"
    },
    "id": "Ytt_jOhfM8JB",
    "outputId": "d431ab20-78ce-4a65-cf64-d96e015d8b29"
   },
   "outputs": [
    {
     "data": {
      "text/plain": [
       "array([1.99727295, 2.01396001])"
      ]
     },
     "execution_count": 9,
     "metadata": {},
     "output_type": "execute_result"
    }
   ],
   "source": [
    "np.mean(X[y == 1], axis=0) # there are two groups based on y values, here are the mean values for each feature for y=1"
   ]
  },
  {
   "cell_type": "code",
   "execution_count": 10,
   "metadata": {
    "colab": {
     "base_uri": "https://localhost:8080/"
    },
    "id": "UCd4IrioNTg4",
    "outputId": "8e8c8275-ff85-4690-d234-243b2918d7d2"
   },
   "outputs": [
    {
     "data": {
      "text/plain": [
       "array([-2.00345356, -2.00156406])"
      ]
     },
     "execution_count": 10,
     "metadata": {},
     "output_type": "execute_result"
    }
   ],
   "source": [
    "np.mean(X[y == 0], axis=0) # here are the mean values for each feature for y=0"
   ]
  },
  {
   "cell_type": "markdown",
   "metadata": {
    "id": "NlHawULKMCsx"
   },
   "source": [
    "Well, the data was generated randomly. So some variation is to be expected. If you increase the size of the sample, then the means should approach the values we set above for the parameter `centers`. In case this statement somewhat puzzles you, pause for a while, re-read the previous explanations and codes, and convince yourself that the empirical mean values for the two clusters should approach [-2, -2] and [2, 2], respectively."
   ]
  },
  {
   "cell_type": "markdown",
   "metadata": {
    "id": "dRPjqtQpHhBr"
   },
   "source": [
    "# The kMeans algorithm\n",
    "\n",
    "The kMeans algorithm is an established and widely used method for clustering. Much more sophisticated algorithms exist, many of which are readily available in Python libraries. However, it is good practice to start simple. For the purpose of BADS, knowing kMeans and what clustering in general can do for us is enough. \n",
    "\n",
    "kMeans belongs to the family of non-hierarchical cluster analysis methods. K random centroids are created somewhere in the feature space. Then, all data points are assigned to the **nearest centroid** (using some measure of distance). This assignment provides an **initial cluster solution**. Every data point is attached to one cluster. Based on this cluster solution, we **update the centroids**. More specifically, we calculate the updated centroid of each cluster by finding the **empirical mean of the features** across all data points are attachted to that cluster.  After updating the centroids, we repeat the assignment of data points to the nearest (updated) centroid. The **twp-phase process** of updating centroids given a cluster solution, and updating cluster solutions given centroids **repeats** itself until some stopping criterion is met. For example, we can terminate the algorithm once we observe that cluster solutions/centroids stop changing. \n",
    "\n",
    "The results of kMeans, that is the cluster solution, may differ based on the initial random selection of centroids. Therefore, it is important to invoke the algorithm multiple times with different random starting points. Then, we can average over all runs in the end or select the *best*, in terms of objective value, cluster solution. Recall that the best solution is the one in which the total sum of the the intra-cluster variances is smallest. "
   ]
  },
  {
   "cell_type": "markdown",
   "metadata": {
    "id": "Bdho4OZir6O7"
   },
   "source": [
    "## kMeans from scratch\n",
    "We will first implement a couple of function that take care of individual steps in the kMeans algorithm. Afterwards, the function `KMeans_from_scratch()` glues all parts together and represents our customer implementation of the algorithm. Note that in our implementation, we do not start from an artificially created random centroid. Instead, we randomly select one data point per cluster and define this random data point to be the first centroid. Watch out for the call to the function `np.random.choice()` in the below code, which implements this step."
   ]
  },
  {
   "cell_type": "code",
   "execution_count": 11,
   "metadata": {
    "id": "6UrZO-nPd4zW"
   },
   "outputs": [],
   "source": [
    "def euclidean_distance(a, b):\n",
    "    return np.sqrt(np.sum((a - b)**2)) # other distance measures also possible"
   ]
  },
  {
   "cell_type": "code",
   "execution_count": 12,
   "metadata": {
    "id": "798DJYmzc7tQ"
   },
   "outputs": [],
   "source": [
    "def label_cluster(n_samples, clusters):\n",
    "    \"\"\"each sample will get the label of the cluster it was assigned to\"\"\"\n",
    "    labels = np.empty(n_samples) # creates empty array as long as samples for future labels\n",
    "\n",
    "    for cluster_idx, cluster in enumerate(clusters):\n",
    "        #print(cluster_idx, cluster)\n",
    "        for sample_index in cluster:\n",
    "            labels[sample_index] = cluster_idx # assign labels to each sample\n",
    "    return labels"
   ]
  },
  {
   "cell_type": "code",
   "execution_count": 13,
   "metadata": {
    "id": "ynzFhyNkc-Qv"
   },
   "outputs": [],
   "source": [
    "def create_clusters(K, X, centroids):\n",
    "    \"\"\"Assign the samples to the closest centroids to create clusters\"\"\"\n",
    "    clusters = [[] for _ in range(K)] # creates a list of K number of lists\n",
    "    for idx, sample in enumerate(X):\n",
    "        centroid_idx = find_closest_centroid(sample, centroids) # find closest centroid for each sample\n",
    "        clusters[centroid_idx].append(idx) # create index list of closest centroids\n",
    "    return clusters"
   ]
  },
  {
   "cell_type": "code",
   "execution_count": 14,
   "metadata": {
    "id": "5or9vgnpdAqx"
   },
   "outputs": [],
   "source": [
    "def find_closest_centroid(sample, centroids):\n",
    "    \"\"\"Distance from each sample to every centroid\"\"\"\n",
    "    distances = [euclidean_distance(sample, point) for point in centroids] # calculate distance from each sample to each centroid\n",
    "    closest_index = np.argmin(distances) # take closest centroid (one with minimal distance)\n",
    "    return closest_index"
   ]
  },
  {
   "cell_type": "code",
   "execution_count": 15,
   "metadata": {
    "id": "BL8I6bUqdDH3"
   },
   "outputs": [],
   "source": [
    "def update_centroids(X, K, n_features, clusters):\n",
    "    \"\"\"Assign mean value of cluster features to each centroid\"\"\"\n",
    "    centroids = np.zeros((K, n_features))\n",
    "    for cluster_idx, cluster in enumerate(clusters):\n",
    "        cluster_mean = np.mean(X[cluster,:], axis=0) # find new centroid by finding mean of all points assigned to centroid\n",
    "        centroids[cluster_idx] = cluster_mean # collect all centroids\n",
    "    return centroids"
   ]
  },
  {
   "cell_type": "code",
   "execution_count": 16,
   "metadata": {
    "id": "ojIQU_I7dGMo"
   },
   "outputs": [],
   "source": [
    "def is_converged(centroids_old, centroids, K):\n",
    "    \"\"\"Check if centroids have changed since last iteration\"\"\"\n",
    "    distances = [euclidean_distance(centroids_old[i], centroids[i]) for i in range(K)] # check distance between old and new centroids\n",
    "    return sum(distances) == 0 # return Boolean indicating whether centroids are the same as before or not"
   ]
  },
  {
   "cell_type": "code",
   "execution_count": 18,
   "metadata": {
    "id": "OIsH4enGckw8"
   },
   "outputs": [],
   "source": [
    "def KMeans_from_scratch(X, K=5, max_iters=100):\n",
    "    \"\"\"Choose a random set of centroids then optimise using above functions\"\"\"\n",
    "    n_samples, n_features = X.shape\n",
    "    \n",
    "    # Initialization \n",
    "    random_sample_idx = np.random.choice(n_samples, K, replace=False) # take random sample points to be initial clusters\n",
    "    centroids = [X[idx] for idx in random_sample_idx] # label these points as centroids\n",
    "\n",
    "    iteration_num = 0 # initialize iteration tracker\n",
    "\n",
    "    # Optimization\n",
    "    for iteration in range(max_iters):\n",
    "        \n",
    "        iteration_num += 1 # track iterations required\n",
    "\n",
    "        clusters = create_clusters(K, X, centroids) # assignment to closest centroids (cluster creation)\n",
    "\n",
    "        centroids_old = centroids # archive previous centroids\n",
    "        centroids = update_centroids(X, K, n_features, clusters) # Updating centroids \n",
    "        \n",
    "        # Convergence Confirmation\n",
    "        if is_converged(centroids_old, centroids, K): # check if last iteration's centroids were the same as current iteration\n",
    "            labels = label_cluster(n_samples, clusters)\n",
    "            dist = [euclidean_distance(X[row_num], centroids[int(labels[row_num])]) for row_num in range(X.shape[0])] # get distance from each point to its centroid\n",
    "            total_dist = np.sum(np.square(dist)) # total distance calculated as sum of squares\n",
    "            break # exit loop since there was no change since last iteration\n",
    "\n",
    "    # Classify samples as the index of their clusters\n",
    "    return labels, iteration_num, K, centroids, total_dist"
   ]
  },
  {
   "cell_type": "code",
   "execution_count": 20,
   "metadata": {},
   "outputs": [
    {
     "data": {
      "text/plain": [
       "array([[ 1.94585212,  2.06341326],\n",
       "       [ 2.0789372 ,  2.01068834],\n",
       "       [-1.90239469, -2.06966711],\n",
       "       [-2.00126983, -2.15336304],\n",
       "       [ 1.9822441 ,  2.03231295]])"
      ]
     },
     "execution_count": 20,
     "metadata": {},
     "output_type": "execute_result"
    }
   ],
   "source": [
    "X[:5]"
   ]
  },
  {
   "cell_type": "code",
   "execution_count": 21,
   "metadata": {},
   "outputs": [
    {
     "ename": "NameError",
     "evalue": "name 'K' is not defined",
     "output_type": "error",
     "traceback": [
      "\u001b[1;31m---------------------------------------------------------------------------\u001b[0m",
      "\u001b[1;31mNameError\u001b[0m                                 Traceback (most recent call last)",
      "\u001b[1;32m<ipython-input-21-bb9119049ca8>\u001b[0m in \u001b[0;36m<module>\u001b[1;34m\u001b[0m\n\u001b[1;32m----> 1\u001b[1;33m \u001b[0mclusters\u001b[0m \u001b[1;33m=\u001b[0m \u001b[0mcreate_clusters\u001b[0m\u001b[1;33m(\u001b[0m\u001b[0mK\u001b[0m\u001b[1;33m,\u001b[0m \u001b[0mX\u001b[0m\u001b[1;33m,\u001b[0m \u001b[0mcentroids\u001b[0m\u001b[1;33m)\u001b[0m\u001b[1;33m\u001b[0m\u001b[1;33m\u001b[0m\u001b[0m\n\u001b[0m\u001b[0;32m      2\u001b[0m \u001b[0mclusters\u001b[0m\u001b[1;33m\u001b[0m\u001b[1;33m\u001b[0m\u001b[0m\n",
      "\u001b[1;31mNameError\u001b[0m: name 'K' is not defined"
     ]
    }
   ],
   "source": [
    "clusters = create_clusters(K, X, centroids)\n",
    "clusters"
   ]
  },
  {
   "cell_type": "code",
   "execution_count": 155,
   "metadata": {},
   "outputs": [
    {
     "name": "stdout",
     "output_type": "stream",
     "text": [
      "[1. 1. 0. 0. 1. 1. 1. 0. 1. 1. 1. 1. 1. 1. 1. 0. 0. 1. 0. 0. 0. 1. 1. 1.\n",
      " 0. 0. 0. 1. 0. 0. 0. 1. 1. 1. 1. 1. 0. 1. 1. 1. 0. 1. 1. 0. 0. 0. 1. 1.\n",
      " 1. 0. 1. 0. 1. 0. 0. 0. 0. 1. 1. 0. 0. 1. 1. 1. 1. 1. 1. 1. 0. 1. 1. 1.\n",
      " 1. 1. 0. 0. 1. 1. 1. 1. 1. 1. 1. 1. 1. 0. 1. 0. 1. 1. 1. 0. 1. 0. 0. 1.\n",
      " 0. 1. 1. 0. 0. 1. 1. 1. 0. 0. 1. 1. 0. 1. 1. 1. 0. 0. 1. 1. 1. 0. 1. 1.\n",
      " 0. 0. 0. 0. 1. 0. 1. 1. 1. 1. 1. 0. 1. 1. 0. 0. 1. 1. 1. 0. 1. 1. 0. 1.\n",
      " 1. 1. 0. 1. 1. 0. 1. 1. 1. 1. 1. 1. 1. 1. 0. 1. 1. 1. 0. 1. 1. 1. 1. 0.\n",
      " 0. 1. 1. 0. 1. 0. 0. 1. 1. 0. 1. 0. 0. 0. 1. 1. 0. 0. 1. 1. 0. 1. 0. 1.\n",
      " 0. 0. 1. 0. 1. 1. 1. 1. 0. 0. 0. 1. 1. 1. 1. 1. 1. 1. 0. 0. 1. 1. 1. 0.\n",
      " 0. 0. 1. 0. 0. 1. 1. 1. 1. 0. 0. 0. 0. 1. 1. 1. 1. 0. 0. 1. 1. 1. 1. 0.\n",
      " 0. 1. 1. 0. 1. 1. 0. 1. 1. 1. 0. 1. 0. 1. 1. 0. 1. 0. 1. 1. 1. 1. 1. 0.\n",
      " 1. 0. 1. 1. 1. 1. 0. 0. 1. 0. 1. 1. 0. 0. 1. 0. 1. 1. 0. 1. 1. 1. 0. 1.\n",
      " 1. 0. 1. 0. 1. 0. 1. 0. 1. 1. 1. 1. 1. 0. 0. 0. 0. 1. 0. 1. 0. 1. 1. 1.\n",
      " 1. 0. 1. 1. 1. 1. 0. 1. 0. 1. 1. 1. 0. 1. 0. 1. 1. 1. 1. 1. 0. 1. 1. 0.\n",
      " 1. 1. 1. 0. 1. 1. 0. 0. 1. 1. 0. 0. 0. 1. 1. 1. 0. 1. 0. 1. 0. 1. 1. 1.\n",
      " 1. 1. 1. 1. 0. 0. 0. 1. 0. 1. 1. 1. 1. 1. 0. 0. 0. 1. 1. 0. 1. 0. 1. 1.\n",
      " 1. 0. 0. 0. 1. 1. 1. 0. 1. 1. 0. 1. 1. 0. 0. 0. 1. 0. 0. 0. 1. 1. 1. 1.\n",
      " 1. 0. 1. 1. 1. 0. 1. 1. 1. 1. 1. 0. 0. 0. 1. 1. 1. 1. 1. 0. 1. 0. 1. 1.\n",
      " 1. 1. 1. 1. 1. 0. 0. 1. 0. 1. 1. 1. 0. 1. 0. 1. 1. 1. 0. 1. 0. 0. 1. 1.\n",
      " 1. 0. 0. 1. 0. 0. 0. 1. 1. 1. 0. 0. 1. 1. 1. 1. 1. 0. 0. 0. 1. 0. 0. 0.\n",
      " 0. 0. 0. 0. 0. 1. 1. 1. 1. 0. 0. 1. 1. 0. 1. 0. 1. 0. 0. 0.]\n"
     ]
    }
   ],
   "source": [
    "centroids_old = centroids\n",
    "centroids = update_centroids(X, K, n_features, clusters)\n",
    "centroids\n",
    "is_converged(centroids_old, centroids, K)\n",
    "labels = label_cluster(n_samples, clusters)\n"
   ]
  },
  {
   "cell_type": "code",
   "execution_count": 22,
   "metadata": {
    "id": "C53bNvVIl400"
   },
   "outputs": [
    {
     "data": {
      "text/plain": [
       "(array([0., 0., 1., 1., 0., 0., 1., 1., 0., 0., 1., 0., 0., 1., 1., 0., 0.,\n",
       "        0., 0., 1., 0., 0., 0., 1., 1., 1., 1., 1., 0., 0., 0., 1., 0., 0.,\n",
       "        0., 0., 0., 0., 0., 1., 1., 0., 1., 1., 0., 0., 0., 0., 0., 1., 0.,\n",
       "        1., 0., 0., 0., 0., 0., 1., 1., 1., 0., 0., 1., 1., 1., 1., 1., 0.,\n",
       "        1., 0., 1., 1., 0., 0., 1., 1., 0., 1., 0., 1., 0., 1., 1., 0., 0.,\n",
       "        0., 1., 1., 0., 0., 0., 0., 1., 0., 0., 0., 1., 1., 1., 1., 1., 0.,\n",
       "        1., 0., 0., 0., 1., 0., 0., 1., 0., 0., 0., 0., 1., 0., 1., 0., 1.,\n",
       "        1., 1., 1., 0., 1., 1., 0., 1., 0., 0., 1., 1., 0., 0., 1., 1., 1.,\n",
       "        0., 1., 1., 1., 0., 1., 1., 1., 1., 0., 0., 0., 0., 1., 1., 1., 0.,\n",
       "        0., 0., 0., 0., 1., 0., 1., 1., 0., 0., 1., 1., 1., 1., 1., 0., 0.,\n",
       "        0., 1., 1., 1., 1., 1., 0., 1., 0., 1., 1., 0., 1., 1., 1., 1., 0.,\n",
       "        0., 0., 1., 1., 0., 0., 0., 0., 1., 1., 1., 1., 0., 0., 1., 1., 1.,\n",
       "        1., 0., 0., 0., 0., 1., 1., 0., 0., 0., 0., 1., 1., 0., 0., 1., 1.,\n",
       "        0., 0., 0., 1., 1., 0., 1., 0., 1., 1., 0., 1., 1., 1., 1., 1., 0.,\n",
       "        0., 0., 0., 0., 1., 1., 0., 0., 1., 1., 0., 0., 1., 1., 1., 0., 1.,\n",
       "        1., 0., 1., 0., 1., 0., 0., 1., 0., 1., 1., 1., 1., 0., 1., 1., 1.,\n",
       "        1., 1., 0., 0., 1., 0., 0., 0., 0., 0., 1., 0., 0., 1., 1., 0., 1.,\n",
       "        0., 1., 1., 0., 0., 1., 1., 0., 1., 1., 0., 1., 1., 0., 1., 0., 0.,\n",
       "        0., 0., 1., 1., 0., 1., 0., 1., 0., 1., 0., 1., 1., 1., 0., 0., 0.,\n",
       "        0., 1., 1., 0., 0., 0., 0., 1., 1., 1., 1., 0., 0., 1., 1., 0., 1.,\n",
       "        0., 0., 1., 1., 0., 0., 0., 0., 1., 1., 0., 0., 0., 1., 0., 1., 1.,\n",
       "        0., 0., 1., 0., 1., 1., 0., 1., 0., 1., 1., 1., 0., 1., 1., 1., 0.,\n",
       "        1., 1., 0., 0., 0., 1., 0., 1., 1., 1., 1., 1., 1., 1., 0., 0., 1.,\n",
       "        0., 1., 1., 1., 1., 0., 0., 1., 1., 0., 0., 0., 1., 0., 1., 0., 1.,\n",
       "        0., 0., 1., 0., 0., 0., 1., 1., 0., 1., 1., 1., 0., 0., 0., 0., 0.,\n",
       "        1., 1., 0., 1., 1., 1., 1., 0., 1., 0., 0., 0., 0., 1., 1., 0., 0.,\n",
       "        0., 0., 1., 1., 0., 0., 1., 1., 0., 0., 1., 0., 0., 1., 0., 0., 0.,\n",
       "        0., 1., 0., 0., 0., 0., 0., 1., 1., 1., 1., 1., 0., 1., 0., 0., 0.,\n",
       "        1., 1., 1., 0., 1., 0., 1., 1., 1., 1., 0., 0., 1., 0., 1., 1., 0.,\n",
       "        1., 0., 1., 0., 1., 1., 0.]),\n",
       " 2,\n",
       " 2,\n",
       " array([[ 1.99727295,  2.01396001],\n",
       "        [-2.00345356, -2.00156406]]),\n",
       " 9.51503912024898)"
      ]
     },
     "execution_count": 22,
     "metadata": {},
     "output_type": "execute_result"
    }
   ],
   "source": [
    "result = KMeans_from_scratch(X, K=2, max_iters=100)\n",
    "result"
   ]
  },
  {
   "cell_type": "code",
   "execution_count": 23,
   "metadata": {
    "colab": {
     "base_uri": "https://localhost:8080/"
    },
    "id": "oaG783ECIWpv",
    "outputId": "f32b248a-6ff9-47c7-84f6-de7a1263c9ea"
   },
   "outputs": [
    {
     "name": "stdout",
     "output_type": "stream",
     "text": [
      "No. Iterations: 2 , No. Centres: 2 , Total Squared Distance 9.515\n"
     ]
    }
   ],
   "source": [
    "print(\"No. Iterations:\", result[1], \", No. Centres:\", result[2], \", Total Squared Distance {:.4}\".format(result[4]))"
   ]
  },
  {
   "cell_type": "code",
   "execution_count": 24,
   "metadata": {
    "colab": {
     "base_uri": "https://localhost:8080/"
    },
    "id": "C-KwQjtpEHbl",
    "outputId": "f8abbde9-318b-4028-c29b-e190700144da"
   },
   "outputs": [
    {
     "name": "stdout",
     "output_type": "stream",
     "text": [
      "Centroid Coordinates: [[ 1.99727295  2.01396001]\n",
      " [-2.00345356 -2.00156406]]\n"
     ]
    }
   ],
   "source": [
    "print(\"Centroid Coordinates:\", result[3]) # these display average value for each feature of the cluster"
   ]
  },
  {
   "cell_type": "markdown",
   "metadata": {
    "id": "PdBezwLheDGy"
   },
   "source": [
    "## kMeans and \"True\" Groups\n",
    "\n",
    "Let's see whether the kMeans function was able to distinguish the groups of y=1 and y=0. Recall that our synthetic data comes with true cluster memberships. However, kMeans does not know about these memberships. In the previous example, we only used our data matrix `X`. We never disclosed the cluster assignment vector `y` to kMeans. kMeans and other cluster methods operated a **unsupervised learners**. Therefore, we can now compare the way in which kMeans have segmented the data to the original true cluster memberships. This comes down to compare the cluster labels per data points, which our customer implementation returns in the array `labels`, the their true counterparts in the array `y`.\n",
    "\n",
    "Let's see if our results split on the y=1,0 groups or if the algorithm seems to have split the observations in a different way."
   ]
  },
  {
   "cell_type": "code",
   "execution_count": 25,
   "metadata": {
    "colab": {
     "base_uri": "https://localhost:8080/"
    },
    "id": "WR9UeYK5IdJF",
    "outputId": "2fe9e9af-6774-4859-d547-15f043b32fb7"
   },
   "outputs": [
    {
     "data": {
      "text/plain": [
       "array([0., 0., 1., 1., 0., 0., 1., 1., 0., 0.])"
      ]
     },
     "execution_count": 25,
     "metadata": {},
     "output_type": "execute_result"
    }
   ],
   "source": [
    "result[0][:10] # classifications according to kMeans from scratch for the first five data points"
   ]
  },
  {
   "cell_type": "code",
   "execution_count": 26,
   "metadata": {
    "colab": {
     "base_uri": "https://localhost:8080/"
    },
    "id": "WO4zDDnT-Hhy",
    "outputId": "8d8895a5-200a-4ab2-ed23-17a89892a327"
   },
   "outputs": [
    {
     "data": {
      "text/plain": [
       "array([1, 1, 0, 0, 1, 1, 0, 0, 1, 1])"
      ]
     },
     "execution_count": 26,
     "metadata": {},
     "output_type": "execute_result"
    }
   ],
   "source": [
    "y[:10] # and the corresponding true group memberships"
   ]
  },
  {
   "cell_type": "markdown",
   "metadata": {
    "id": "fZjC7bsoMCtT"
   },
   "source": [
    "We asked you to make changes to the above code. Hence, your solution might be a little different from ours, depending on what and how much you changed. The data generated in the original (unchanged) version of the notebook was pretty simple to cluster. Therefore, you might also obtain a solution where the first five entries of `y` and `result` coincide; or are at least pretty similar. This is to be expected. Let's take a closer look. The following code makes use of the `collections` library and the class `Counter` in particular to count the number of cases in which a data point from cluster 0 ended up in cluster 1 and vice versa. Take a little time for fully understand the code. You will this is approach frequently when it comes to counting list elements."
   ]
  },
  {
   "cell_type": "code",
   "execution_count": 164,
   "metadata": {
    "colab": {
     "base_uri": "https://localhost:8080/"
    },
    "id": "6qqxzKWk80b1",
    "outputId": "82f1f21e-89d2-4c18-de82-6ed601b467d0"
   },
   "outputs": [
    {
     "data": {
      "text/plain": [
       "Counter({1.0: 250})"
      ]
     },
     "execution_count": 164,
     "metadata": {},
     "output_type": "execute_result"
    }
   ],
   "source": [
    "from collections import Counter\n",
    "\n",
    "Counter(result[0][y == 1]) # note that there is still a large mix in this group, some features were uninformative, this could be misleading the kMeans function"
   ]
  },
  {
   "cell_type": "code",
   "execution_count": 165,
   "metadata": {
    "colab": {
     "base_uri": "https://localhost:8080/"
    },
    "id": "MZBoAz-_IPl4",
    "outputId": "ac7167a7-be46-4f9b-a9f8-46fafe724ba1"
   },
   "outputs": [
    {
     "data": {
      "text/plain": [
       "Counter({0.0: 250})"
      ]
     },
     "execution_count": 165,
     "metadata": {},
     "output_type": "execute_result"
    }
   ],
   "source": [
    "Counter(result[0][y == 0])"
   ]
  },
  {
   "cell_type": "markdown",
   "metadata": {
    "id": "ajXZkotqP5MZ"
   },
   "source": [
    "Again, depending upon what kind of changes you made to the code, your results might be anything. For the original notebook version, we would expect to see that most data points were put into their *true cluster* while some errors were also made. This result stems from the fact that the synthetic data was easy to cluster. You can go back, change the code and increase the complexity of the clustering task. Before doing so, run the following code to plot your data one more time while highlighting the data points that have been put into the wrong cluster. I think it's fair to say that kMeans has been a fairly good  job."
   ]
  },
  {
   "cell_type": "code",
   "execution_count": 166,
   "metadata": {
    "colab": {
     "base_uri": "https://localhost:8080/"
    },
    "id": "9nIB5rbDMCta",
    "outputId": "6f074655-c751-4680-8540-124364424794"
   },
   "outputs": [
    {
     "data": {
      "image/png": "[encoded data removed]",
      "text/plain": [
       "<Figure size 432x288 with 1 Axes>"
      ]
     },
     "metadata": {
      "needs_background": "light"
     },
     "output_type": "display_data"
    }
   ],
   "source": [
    "idx = result[0]==y  # index of the correctly clustered data points\n",
    "plt.scatter(X[idx,0],X[idx,1], c=y[idx]);  # plot these points\n",
    "plt.scatter(X[~idx,0],X[~idx,1], c=y[~idx], edgecolor='red', linewidths=1);  # highlight wrongly clustered data points  "
   ]
  },
  {
   "cell_type": "markdown",
   "metadata": {
    "id": "LBLlvv2AIfB1"
   },
   "source": [
    "## Searching the optimal 'k'\n",
    "In our case, we can be *pretty sure* (caution: irony in progress) that the optimal value for parameter `k`is 2. Let's pretend we would not know this. We can then use the **elbow method** to determine a suitable setting for `k` by trial and error. To that end, we run the algorithm multiple times with different settings for parameter `k`. We can then plot settings of `k` on the x-axis against the total distance on the y-axis. Wherever we see a bend in the curve (i.e. an elbow), we can consider the corresponding setting of `k` a suitable setting. Anything past the bend of the curve would make the model unnecessarily complex. We would be adding more centroids (i.e., clusters), which we would need to interpret afterwards, without increasing homogeneity in the clusters a lot. \n",
    "\n",
    "The following codes illustrate the elbow method for candidate settings of $k=1, ..., 8$. Depending on the size of your data sample, the code might need a little while to run."
   ]
  },
  {
   "cell_type": "code",
   "execution_count": 167,
   "metadata": {
    "colab": {
     "base_uri": "https://localhost:8080/"
    },
    "id": "M2jNlBwPn-Bz",
    "outputId": "bca0c117-f69f-47ce-efd4-f485bb520a39"
   },
   "outputs": [
    {
     "data": {
      "text/plain": [
       "[4007.9070127795694,\n",
       " 10.739336804635295,\n",
       " 8.901266589084399,\n",
       " 7.188760317363636,\n",
       " 5.968240784817741,\n",
       " 5.49930175712975,\n",
       " 4.422023975306153,\n",
       " 4.087636890614792]"
      ]
     },
     "execution_count": 167,
     "metadata": {},
     "output_type": "execute_result"
    }
   ],
   "source": [
    "# Run kMeans with settings k = 1, 2, ..., 8 and store resulting obejective values (total sum of squares) over clusters\n",
    "list_total_dist = []\n",
    "\n",
    "for i in range(1,9):\n",
    "  results = KMeans_from_scratch(X, K=i, max_iters=100)\n",
    "  list_total_dist.append(results[4])\n",
    "\n",
    "list_total_dist"
   ]
  },
  {
   "cell_type": "code",
   "execution_count": 168,
   "metadata": {
    "colab": {
     "base_uri": "https://localhost:8080/"
    },
    "id": "8DYEo39PsG8k",
    "outputId": "b925c3d5-6108-4786-89eb-d44098f4bfda"
   },
   "outputs": [
    {
     "data": {
      "image/png": "[encoded data removed]",
      "text/plain": [
       "<Figure size 432x288 with 1 Axes>"
      ]
     },
     "metadata": {
      "needs_background": "light"
     },
     "output_type": "display_data"
    }
   ],
   "source": [
    "plt.plot(range(1,9), list_total_dist)\n",
    "plt.title(\"kMeans Elbow Curve\")\n",
    "plt.ylabel(\"Total Squared Distance\")\n",
    "plt.xlabel(\"K\")\n",
    "plt.show()"
   ]
  },
  {
   "cell_type": "markdown",
   "metadata": {
    "id": "cP5gmS2bMCti"
   },
   "source": [
    "What a nice and clear elbow. Did we mention that you can change the codes and try them with a more challenging synthetic data set? Hint, hint... "
   ]
  },
  {
   "cell_type": "markdown",
   "metadata": {
    "id": "9h1igA87vxUz"
   },
   "source": [
    "# kMeans with sklearn\n",
    "\n",
    "As with the most popular machine learning algorithm, the library sklearn has an easy way to implement the kMeans algorithm. We simply have to import the KMeans function from the sklearn.cluster library.\n",
    "\n",
    "The documentation for this function can be found here: https://scikit-learn.org/stable/modules/generated/sklearn.cluster.KMeans.html. Once you create a KMeans object, you can use many methods and attributes to fit, predict and evaluate your model. We illustrate the steps below; essentially re-implementing the above example using only a few lines of code."
   ]
  },
  {
   "cell_type": "code",
   "execution_count": 170,
   "metadata": {
    "id": "Ngg58FxZNnSJ"
   },
   "outputs": [
    {
     "data": {
      "text/plain": [
       "array([0, 0, 1, 1, 0, 0, 0, 1, 0, 0, 1, 0, 0, 1, 0, 1, 1, 0, 1, 1, 1, 1,\n",
       "       0, 0, 1, 1, 1, 0, 1, 1, 1, 0, 0, 0, 0, 0, 1, 0, 1, 1, 1, 0, 0, 1,\n",
       "       1, 1, 0, 0, 0, 1, 1, 1, 0, 1, 1, 1, 1, 0, 1, 1, 1, 0, 0, 0, 0, 0,\n",
       "       0, 0, 1, 0, 0, 0, 0, 0, 1, 1, 0, 0, 0, 0, 0, 0, 0, 0, 0, 1, 1, 1,\n",
       "       0, 0, 0, 1, 0, 1, 1, 0, 1, 0, 1, 1, 1, 0, 0, 1, 1, 1, 0, 0, 1, 0,\n",
       "       1, 0, 1, 1, 0, 1, 1, 1, 0, 0, 1, 1, 1, 1, 0, 1, 0, 0, 1, 0, 0, 1,\n",
       "       0, 0, 1, 1, 0, 0, 0, 1, 0, 1, 1, 0, 0, 0, 1, 0, 0, 1, 0, 1, 0, 0,\n",
       "       0, 0, 0, 0, 1, 0, 0, 0, 1, 0, 0, 0, 0, 1, 1, 0, 0, 1, 0, 1, 1, 0,\n",
       "       0, 1, 0, 1, 1, 1, 0, 0, 1, 1, 0, 0, 1, 0, 1, 0, 1, 1, 0, 1, 0, 0,\n",
       "       1, 0, 1, 1, 1, 0, 1, 0, 0, 0, 1, 0, 1, 1, 0, 0, 1, 1, 1, 1, 1, 1,\n",
       "       1, 0, 0, 1, 0, 1, 1, 1, 1, 0, 0, 0, 0, 1, 1, 0, 0, 0, 0, 1, 1, 0,\n",
       "       0, 1, 0, 1, 1, 1, 0, 0, 1, 0, 1, 0, 0, 1, 0, 1, 0, 0, 0, 0, 0, 1,\n",
       "       0, 1, 0, 0, 0, 0, 1, 1, 1, 1, 0, 0, 1, 1, 0, 1, 1, 0, 1, 1, 0, 0,\n",
       "       1, 0, 0, 1, 0, 1, 0, 1, 0, 1, 0, 0, 0, 0, 0, 1, 1, 1, 1, 1, 1, 1,\n",
       "       1, 0, 0, 0, 0, 1, 1, 0, 0, 0, 1, 0, 1, 0, 1, 1, 1, 0, 1, 0, 0, 0,\n",
       "       0, 0, 1, 0, 0, 1, 0, 0, 0, 1, 1, 0, 1, 1, 0, 0, 1, 1, 1, 1, 1, 0,\n",
       "       1, 0, 1, 1, 1, 0, 0, 0, 1, 0, 1, 0, 1, 1, 1, 0, 1, 1, 1, 0, 1, 1,\n",
       "       1, 1, 1, 0, 0, 1, 1, 1, 0, 0, 1, 1, 1, 1, 0, 0, 0, 1, 0, 0, 1, 0,\n",
       "       0, 1, 1, 1, 0, 1, 1, 1, 1, 0, 0, 0, 0, 1, 0, 0, 0, 1, 0, 0, 0, 0,\n",
       "       0, 1, 1, 1, 0, 0, 0, 0, 0, 1, 0, 1, 0, 0, 0, 0, 0, 1, 0, 1, 1, 0,\n",
       "       1, 0, 1, 0, 1, 0, 1, 1, 0, 1, 1, 0, 1, 1, 0, 0, 0, 1, 1, 0, 1, 1,\n",
       "       1, 1, 1, 0, 1, 1, 1, 0, 0, 0, 1, 1, 1, 1, 1, 1, 1, 1, 1, 1, 1, 1,\n",
       "       1, 0, 0, 1, 0, 1, 1, 0, 0, 1, 0, 1, 1, 1, 1, 1])"
      ]
     },
     "execution_count": 170,
     "metadata": {},
     "output_type": "execute_result"
    }
   ],
   "source": [
    "from sklearn.cluster import KMeans\n",
    "\n",
    "km = KMeans(n_clusters=2, init='random', n_init=20, max_iter=100, random_state=888) # create KMeans object with certain settings\n",
    "\n",
    "res = km.fit_predict(X) # fit to X and also predict labels of X, not using the easier X_simple\n",
    "res"
   ]
  },
  {
   "cell_type": "code",
   "execution_count": 171,
   "metadata": {
    "colab": {
     "base_uri": "https://localhost:8080/"
    },
    "id": "o5hbvjwaFRY3",
    "outputId": "05e6cb7a-3a17-46aa-89d6-91ac14ad2fb5"
   },
   "outputs": [
    {
     "data": {
      "text/plain": [
       "array([[ 1.99148365,  2.00486048],\n",
       "       [-2.00041385, -2.00039803]])"
      ]
     },
     "execution_count": 171,
     "metadata": {},
     "output_type": "execute_result"
    }
   ],
   "source": [
    "km.cluster_centers_ # here are the centroids for kMeans, these display average value for each feature of the cluster"
   ]
  },
  {
   "cell_type": "code",
   "execution_count": 172,
   "metadata": {
    "colab": {
     "base_uri": "https://localhost:8080/"
    },
    "id": "2pwM6iieG269",
    "outputId": "721b761d-159a-4404-bcf9-d2f497769b74"
   },
   "outputs": [
    {
     "data": {
      "text/plain": [
       "3"
      ]
     },
     "execution_count": 172,
     "metadata": {},
     "output_type": "execute_result"
    }
   ],
   "source": [
    "km.n_iter_ # this is the number of iterations required for stability in this solution"
   ]
  },
  {
   "cell_type": "code",
   "execution_count": 173,
   "metadata": {
    "colab": {
     "base_uri": "https://localhost:8080/"
    },
    "id": "d3iIlQN5GtsW",
    "outputId": "4591aeac-550d-4874-b2f6-0be306b3834e"
   },
   "outputs": [
    {
     "data": {
      "text/plain": [
       "10.739336804635306"
      ]
     },
     "execution_count": 173,
     "metadata": {},
     "output_type": "execute_result"
    }
   ],
   "source": [
    "km.inertia_ # here is a value similar to total distance for the clusters"
   ]
  },
  {
   "cell_type": "code",
   "execution_count": 174,
   "metadata": {
    "colab": {
     "base_uri": "https://localhost:8080/"
    },
    "id": "ChOU9xgnGoJE",
    "outputId": "0b5c98a7-df02-4339-ecce-d7df848174ac"
   },
   "outputs": [
    {
     "data": {
      "text/plain": [
       "array([0, 0, 1, 1, 0, 0, 0, 1, 0, 0])"
      ]
     },
     "execution_count": 174,
     "metadata": {},
     "output_type": "execute_result"
    }
   ],
   "source": [
    "km.labels_[:10] # here are the labels for each observation from the clustering"
   ]
  },
  {
   "cell_type": "code",
   "execution_count": 175,
   "metadata": {
    "colab": {
     "base_uri": "https://localhost:8080/"
    },
    "id": "aRxdZ0J0MCtx",
    "outputId": "17234f2f-40cb-4dbf-bf11-d20f05daccd3"
   },
   "outputs": [
    {
     "data": {
      "text/plain": [
       "array([1, 1, 0, 0, 1, 1, 1, 0, 1, 1])"
      ]
     },
     "execution_count": 175,
     "metadata": {},
     "output_type": "execute_result"
    }
   ],
   "source": [
    "y[:10]  # here, the labels done by kMeans are consistent with our y values, they can sometimes be flipped so be careful"
   ]
  },
  {
   "cell_type": "code",
   "execution_count": 176,
   "metadata": {
    "colab": {
     "base_uri": "https://localhost:8080/"
    },
    "id": "KKFYTdNk_L-_",
    "outputId": "878ffe5f-d189-4a1b-cd75-f00227581724"
   },
   "outputs": [
    {
     "data": {
      "text/plain": [
       "Counter({0: 250})"
      ]
     },
     "execution_count": 176,
     "metadata": {},
     "output_type": "execute_result"
    }
   ],
   "source": [
    "Counter(km.labels_[y == 1]) # we have a similar level of purity as we had before with the original dataset"
   ]
  },
  {
   "cell_type": "code",
   "execution_count": 177,
   "metadata": {
    "colab": {
     "base_uri": "https://localhost:8080/"
    },
    "id": "t_oCmTjPFHPW",
    "outputId": "f62556ee-176e-4925-be5f-b27c570bf65f"
   },
   "outputs": [
    {
     "data": {
      "text/plain": [
       "Counter({1: 250})"
      ]
     },
     "execution_count": 177,
     "metadata": {},
     "output_type": "execute_result"
    }
   ],
   "source": [
    "Counter(km.labels_[y == 0])"
   ]
  },
  {
   "cell_type": "markdown",
   "metadata": {
    "id": "kH_U6SEJMCt3"
   },
   "source": [
    "Unsurprisingly, the solutions from the `sklearn` implementation of the kMeans algorithm is not fundamentally different from that of our own implementation. How could it? You may have noted though that the `sklearn` code was a lot faster. Let's finish the demo with re-producing our scatter plot."
   ]
  },
  {
   "cell_type": "code",
   "execution_count": 178,
   "metadata": {
    "colab": {
     "base_uri": "https://localhost:8080/",
     "height": 265
    },
    "id": "enx_fqiEMCt4",
    "outputId": "d39039fb-2c86-4660-d7d0-12e726612027"
   },
   "outputs": [
    {
     "data": {
      "image/png": "[encoded data removed]",
      "text/plain": [
       "<Figure size 432x288 with 1 Axes>"
      ]
     },
     "metadata": {
      "needs_background": "light"
     },
     "output_type": "display_data"
    }
   ],
   "source": [
    "idx = km.labels_ == y  # index of the correctly clustered data points\n",
    "plt.scatter(X[idx,0],X[idx,1], c=y[idx]);  # plot these points\n",
    "plt.scatter(X[~idx,0],X[~idx,1], c=y[~idx], edgecolor='red', linewidths=1);  # highlight wrongly clustered data points  "
   ]
  },
  {
   "cell_type": "markdown",
   "metadata": {
    "id": "wFbVUVa9MCt6"
   },
   "source": [
    "Almost indistinguishable from the above plot. Nice."
   ]
  },
  {
   "cell_type": "markdown",
   "metadata": {
    "id": "xoMdrnT5rnKP"
   },
   "source": [
    "### Optimal K in sklearn\n",
    "\n",
    "We can perform the same elbow curve method on sklearn results. The `.inertia_` attribute on a fit kMeans object allows us to see the sum of squared distance between points and their centroid."
   ]
  },
  {
   "cell_type": "code",
   "execution_count": 179,
   "metadata": {
    "colab": {
     "base_uri": "https://localhost:8080/"
    },
    "id": "4PR63XZXq3jN",
    "outputId": "8de2e3d3-3ad6-40f2-b36d-79ebc9c02914"
   },
   "outputs": [
    {
     "data": {
      "text/plain": [
       "[4007.907012779572,\n",
       " 10.739336804635306,\n",
       " 8.981660307009777,\n",
       " 7.292887436274452,\n",
       " 5.989830940470169,\n",
       " 4.886864706807464,\n",
       " 4.327141119508439,\n",
       " 3.931388702156555]"
      ]
     },
     "execution_count": 179,
     "metadata": {},
     "output_type": "execute_result"
    }
   ],
   "source": [
    "list_total_dist_sklearn = []\n",
    "\n",
    "for i in range(1,9):\n",
    "  km = KMeans(n_clusters=i, init='random', n_init=10, max_iter=100, random_state=123) # go from 1 to 8 in the value of centroids\n",
    "  res = km.fit_predict(X)\n",
    "  list_total_dist_sklearn.append(km.inertia_) # check how inertia (~total distance) changes as we increase K\n",
    "\n",
    "list_total_dist_sklearn"
   ]
  },
  {
   "cell_type": "code",
   "execution_count": 180,
   "metadata": {
    "colab": {
     "base_uri": "https://localhost:8080/",
     "height": 295
    },
    "id": "cFAKjIO-reEa",
    "outputId": "8e8c25c2-653d-4b2d-8001-e25d0122a3ae"
   },
   "outputs": [
    {
     "data": {
      "image/png": "[encoded data removed]",
      "text/plain": [
       "<Figure size 432x288 with 1 Axes>"
      ]
     },
     "metadata": {
      "needs_background": "light"
     },
     "output_type": "display_data"
    }
   ],
   "source": [
    "plt.plot(range(1,9), list_total_dist_sklearn) # from this graph, we can see the sharpest bend at 2 again\n",
    "plt.title(\"kMeans Elbow Curve\")\n",
    "plt.ylabel(\"inertia\")\n",
    "plt.xlabel(\"K\")\n",
    "plt.show()"
   ]
  },
  {
   "cell_type": "markdown",
   "metadata": {
    "id": "f8dCvgUXVZcR"
   },
   "source": [
    "Here again, we can see the sharpest kink at K=2. \n",
    "\n"
   ]
  },
  {
   "cell_type": "markdown",
   "metadata": {
    "id": "wkxJUyq4hMWG"
   },
   "source": [
    "# Conclusion\n",
    "\n",
    "kMeans is just one of a few powerful clustering functions whose applications can simplify groups found in data for analysis. While these algorithms can be very powerful, a good understanding of their strengths and weaknesses are critical for an accurate and meaningful analysis of the situation."
   ]
  }
 ],
 "metadata": {
  "colab": {
   "collapsed_sections": [
    "Bdho4OZir6O7",
    "PdBezwLheDGy",
    "LBLlvv2AIfB1",
    "xoMdrnT5rnKP"
   ],
   "name": "2_nb_descriptive_analytics.ipynb",
   "provenance": []
  },
  "kernelspec": {
   "display_name": "Python 3",
   "language": "python",
   "name": "python3"
  },
  "language_info": {
   "codemirror_mode": {
    "name": "ipython",
    "version": 3
   },
   "file_extension": ".py",
   "mimetype": "text/x-python",
   "name": "python",
   "nbconvert_exporter": "python",
   "pygments_lexer": "ipython3",
   "version": "3.8.3"
  }
 },
 "nbformat": 4,
 "nbformat_minor": 4
}
