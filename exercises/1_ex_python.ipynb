{
 "cells": [
  {
   "cell_type": "markdown",
   "metadata": {},
   "source": [
    "[![Open In Colab](https://colab.research.google.com/assets/colab-badge.svg)](https://colab.research.google.com/github/Humboldt-WI/bads/blob/master/exercises/1_ex_python.ipynb) "
   ]
  },
  {
   "cell_type": "markdown",
   "metadata": {},
   "source": [
    "# Exercises on Python programming\n",
    "We covered a lot of concepts in the first [tutorial on Python programming](https://github.com/Humboldt-WI/bads/blob/master/tutorials/1_nb_python_intro.ipynb). Solving the exercises allows you to test your familiarity with these concepts.  "
   ]
  },
  {
   "cell_type": "markdown",
   "metadata": {},
   "source": [
    "## Variables, assignments, and comparisons"
   ]
  },
  {
   "cell_type": "markdown",
   "metadata": {},
   "source": [
    "1. Create two variables $a$ and $b$ and assign values of $3$ and $4.5$."
   ]
  },
  {
   "cell_type": "code",
   "execution_count": 4,
   "metadata": {},
   "outputs": [
    {
     "name": "stdout",
     "output_type": "stream",
     "text": [
      "3\n",
      "4.5\n"
     ]
    }
   ],
   "source": [
    "a,b = 3,4.5\n",
    "print(a)\n",
    "print(b)"
   ]
  },
  {
   "cell_type": "markdown",
   "metadata": {},
   "source": [
    "2. Query the type of variable $a$."
   ]
  },
  {
   "cell_type": "code",
   "execution_count": 5,
   "metadata": {},
   "outputs": [
    {
     "data": {
      "text/plain": [
       "int"
      ]
     },
     "execution_count": 5,
     "metadata": {},
     "output_type": "execute_result"
    }
   ],
   "source": [
    "type(a)"
   ]
  },
  {
   "cell_type": "markdown",
   "metadata": {},
   "source": [
    "3. Check whether variable $b$ is a text variable (of class character)."
   ]
  },
  {
   "cell_type": "code",
   "execution_count": 6,
   "metadata": {},
   "outputs": [
    {
     "data": {
      "text/plain": [
       "False"
      ]
     },
     "execution_count": 6,
     "metadata": {},
     "output_type": "execute_result"
    }
   ],
   "source": [
    "type(b) == str"
   ]
  },
  {
   "cell_type": "markdown",
   "metadata": {},
   "source": [
    "4. Calculate $a^2 + \\frac{1}{b}$, $\\sqrt{a*b}$, and $log_2(a)$."
   ]
  },
  {
   "cell_type": "code",
   "execution_count": 7,
   "metadata": {},
   "outputs": [
    {
     "data": {
      "text/plain": [
       "9.222222222222221"
      ]
     },
     "execution_count": 7,
     "metadata": {},
     "output_type": "execute_result"
    }
   ],
   "source": [
    "a**2+1/b"
   ]
  },
  {
   "cell_type": "code",
   "execution_count": 8,
   "metadata": {},
   "outputs": [
    {
     "data": {
      "text/plain": [
       "3.6742346141747673"
      ]
     },
     "execution_count": 8,
     "metadata": {},
     "output_type": "execute_result"
    }
   ],
   "source": [
    "import math\n",
    "math.sqrt(a*b)"
   ]
  },
  {
   "cell_type": "code",
   "execution_count": 9,
   "metadata": {},
   "outputs": [
    {
     "data": {
      "text/plain": [
       "1.5849625007211563"
      ]
     },
     "execution_count": 9,
     "metadata": {},
     "output_type": "execute_result"
    }
   ],
   "source": [
    "math.log(a,2)"
   ]
  },
  {
   "cell_type": "markdown",
   "metadata": {},
   "source": [
    "## Matrix algebra\n",
    "Create three additional variables as follows:\n",
    "\n",
    " $$ A = \\left( \\begin{matrix} 1 & 2 & 3 \\\\ 4 & 5 & 6 \\\\ 7 & 8 & 10 \\end{matrix} \\right) \\quad\n",
    "  B = \\left( \\begin{matrix} 1 & 4 & 7 \\\\ 2 & 5 & 8 \\\\ 3 & 6 & 9 \\end{matrix} \\right)  \\quad\n",
    "  y = \\left( \\begin{matrix} 1 \\\\ 2 \\\\ 3 \\end{matrix} \\right) $$\n",
    "\n",
    "Perform the following operations. Note that mathematical operators like `*` might not behave in the way you need it. Wasn't there a powerful library for all sorts of numerical computations including classic linear algebra?\n",
    "\n",
    "Calculate  \n",
    "\n",
    "  1. $a*A$"
   ]
  },
  {
   "cell_type": "code",
   "execution_count": 10,
   "metadata": {},
   "outputs": [],
   "source": [
    "A = [[1,2,3], [4,5,6],[7,8,10]]\n",
    "B = [[1,4,7],[2,5,8],[3,6,9]]\n",
    "y = [1,2,3]"
   ]
  },
  {
   "cell_type": "code",
   "execution_count": 11,
   "metadata": {},
   "outputs": [
    {
     "data": {
      "text/plain": [
       "array([[ 3,  6,  9],\n",
       "       [12, 15, 18],\n",
       "       [21, 24, 30]])"
      ]
     },
     "execution_count": 11,
     "metadata": {},
     "output_type": "execute_result"
    }
   ],
   "source": [
    "import numpy as np\n",
    "A = np.array(A)\n",
    "B = np.array(B)\n",
    "y = np.array(y)\n",
    "A*a"
   ]
  },
  {
   "cell_type": "markdown",
   "metadata": {},
   "source": [
    "  2. $A*B$"
   ]
  },
  {
   "cell_type": "code",
   "execution_count": 12,
   "metadata": {},
   "outputs": [
    {
     "data": {
      "text/plain": [
       "array([[ 14,  32,  50],\n",
       "       [ 32,  77, 122],\n",
       "       [ 53, 128, 203]])"
      ]
     },
     "execution_count": 12,
     "metadata": {},
     "output_type": "execute_result"
    }
   ],
   "source": [
    "np.dot(A,B)"
   ]
  },
  {
   "cell_type": "markdown",
   "metadata": {},
   "source": [
    "  3. The inverse of matrix $A$ and store the result in a variable $invA$. Any ideas how to get Python to invert a matrix? Hint: NumPy is your friend.  "
   ]
  },
  {
   "cell_type": "code",
   "execution_count": 13,
   "metadata": {},
   "outputs": [
    {
     "data": {
      "text/plain": [
       "array([[-0.66666667, -1.33333333,  1.        ],\n",
       "       [-0.66666667,  3.66666667, -2.        ],\n",
       "       [ 1.        , -2.        ,  1.        ]])"
      ]
     },
     "execution_count": 13,
     "metadata": {},
     "output_type": "execute_result"
    }
   ],
   "source": [
    "invA = np.linalg.inv(A)\n",
    "invA"
   ]
  },
  {
   "cell_type": "markdown",
   "metadata": {},
   "source": [
    "  4. Multiply $A$ and $invA$ and verify that the result is the identity matrix (i.e. only 1s on the diagonal). You'll probably find that it isn't, because computers usually make very small rounding error when handling real numbers. The reason is interesting, but you'll have to look it up if you're interested."
   ]
  },
  {
   "cell_type": "code",
   "execution_count": 14,
   "metadata": {},
   "outputs": [
    {
     "data": {
      "text/plain": [
       "array([[ 1.00000000e+00, -4.44089210e-16, -1.11022302e-16],\n",
       "       [ 4.44089210e-16,  1.00000000e+00, -2.22044605e-16],\n",
       "       [ 4.44089210e-16,  8.88178420e-16,  1.00000000e+00]])"
      ]
     },
     "execution_count": 14,
     "metadata": {},
     "output_type": "execute_result"
    }
   ],
   "source": [
    "np.dot(A,invA)"
   ]
  },
  {
   "cell_type": "markdown",
   "metadata": {},
   "source": [
    "  5. The transpose of matrix $B$"
   ]
  },
  {
   "cell_type": "code",
   "execution_count": 15,
   "metadata": {},
   "outputs": [
    {
     "data": {
      "text/plain": [
       "array([[1, 2, 3],\n",
       "       [4, 5, 6],\n",
       "       [7, 8, 9]])"
      ]
     },
     "execution_count": 15,
     "metadata": {},
     "output_type": "execute_result"
    }
   ],
   "source": [
    "B.T\n",
    "np.transpose(B)"
   ]
  },
  {
   "cell_type": "markdown",
   "metadata": {},
   "source": [
    "  6. Fill the first row of matrix $B$ with ones"
   ]
  },
  {
   "cell_type": "code",
   "execution_count": 16,
   "metadata": {},
   "outputs": [
    {
     "data": {
      "text/plain": [
       "array([[1, 1, 1],\n",
       "       [2, 5, 8],\n",
       "       [3, 6, 9]])"
      ]
     },
     "execution_count": 16,
     "metadata": {},
     "output_type": "execute_result"
    }
   ],
   "source": [
    "B[0] = np.array([1,1,1]) #or\n",
    "B[0,:] = np.ones(3)\n",
    "B"
   ]
  },
  {
   "cell_type": "markdown",
   "metadata": {},
   "source": [
    "  7. Calculate the ordinary least squares estimator $\\beta$ (i.e. a standard regression) \n",
    "$$ \\beta = (A^{\\top}A)^{-1}A^{\\top} y $$ Run a web search for \"Python matrix transpose\" to get help on how to transpose a matrix. "
   ]
  },
  {
   "cell_type": "code",
   "execution_count": 52,
   "metadata": {},
   "outputs": [
    {
     "data": {
      "text/plain": [
       "array([-3.33333333e-01,  6.66666667e-01, -5.68434189e-14])"
      ]
     },
     "execution_count": 52,
     "metadata": {},
     "output_type": "execute_result"
    }
   ],
   "source": [
    "beta = np.dot(np.linalg.inv(np.dot(A.T,A)),np.dot(A.T,y))\n",
    "beta"
   ]
  },
  {
   "cell_type": "markdown",
   "metadata": {},
   "source": [
    "## Indexing\n",
    "1. Look at values of variables $A$, $B$, and $y$ from the last exercise"
   ]
  },
  {
   "cell_type": "code",
   "execution_count": 53,
   "metadata": {},
   "outputs": [
    {
     "data": {
      "text/plain": [
       "array([[ 1,  2,  3],\n",
       "       [ 4,  5,  6],\n",
       "       [ 7,  8, 10]])"
      ]
     },
     "execution_count": 53,
     "metadata": {},
     "output_type": "execute_result"
    }
   ],
   "source": [
    "A"
   ]
  },
  {
   "cell_type": "code",
   "execution_count": 54,
   "metadata": {},
   "outputs": [
    {
     "data": {
      "text/plain": [
       "array([[1, 1, 1],\n",
       "       [2, 5, 8],\n",
       "       [3, 6, 9]])"
      ]
     },
     "execution_count": 54,
     "metadata": {},
     "output_type": "execute_result"
    }
   ],
   "source": [
    "B"
   ]
  },
  {
   "cell_type": "code",
   "execution_count": 55,
   "metadata": {},
   "outputs": [
    {
     "data": {
      "text/plain": [
       "array([1, 2, 3])"
      ]
     },
     "execution_count": 55,
     "metadata": {},
     "output_type": "execute_result"
    }
   ],
   "source": [
    "y"
   ]
  },
  {
   "cell_type": "markdown",
   "metadata": {},
   "source": [
    "2. Access the second element in the third row of $A$ and the first element in the second row of $B$, and compute their product"
   ]
  },
  {
   "cell_type": "code",
   "execution_count": 56,
   "metadata": {},
   "outputs": [
    {
     "data": {
      "text/plain": [
       "8"
      ]
     },
     "execution_count": 56,
     "metadata": {},
     "output_type": "execute_result"
    }
   ],
   "source": [
    "A[2,1]"
   ]
  },
  {
   "cell_type": "code",
   "execution_count": 57,
   "metadata": {},
   "outputs": [
    {
     "data": {
      "text/plain": [
       "2"
      ]
     },
     "execution_count": 57,
     "metadata": {},
     "output_type": "execute_result"
    }
   ],
   "source": [
    "B[1,0]"
   ]
  },
  {
   "cell_type": "code",
   "execution_count": 58,
   "metadata": {},
   "outputs": [
    {
     "data": {
      "text/plain": [
       "16"
      ]
     },
     "execution_count": 58,
     "metadata": {},
     "output_type": "execute_result"
    }
   ],
   "source": [
    "A[2,1]*B[1,0]"
   ]
  },
  {
   "cell_type": "markdown",
   "metadata": {},
   "source": [
    "3. Multiply the first row of $A$ and the third column of $B$"
   ]
  },
  {
   "cell_type": "code",
   "execution_count": 59,
   "metadata": {},
   "outputs": [
    {
     "data": {
      "text/plain": [
       "44"
      ]
     },
     "execution_count": 59,
     "metadata": {},
     "output_type": "execute_result"
    }
   ],
   "source": [
    "np.dot(A[0],B[:,2])"
   ]
  },
  {
   "cell_type": "markdown",
   "metadata": {},
   "source": [
    "4. Access the elements of y that are greater than 1 (without looking up their position manually)"
   ]
  },
  {
   "cell_type": "code",
   "execution_count": 61,
   "metadata": {},
   "outputs": [
    {
     "data": {
      "text/plain": [
       "array([2, 3])"
      ]
     },
     "execution_count": 61,
     "metadata": {},
     "output_type": "execute_result"
    }
   ],
   "source": [
    "y[y > 1]"
   ]
  },
  {
   "cell_type": "markdown",
   "metadata": {},
   "source": [
    "5. Access the elements of A in the second column, for which the values in the first column are greater or equal to 4)"
   ]
  },
  {
   "cell_type": "code",
   "execution_count": 64,
   "metadata": {},
   "outputs": [
    {
     "data": {
      "text/plain": [
       "array([5, 8])"
      ]
     },
     "execution_count": 64,
     "metadata": {},
     "output_type": "execute_result"
    }
   ],
   "source": [
    "A[:,1][A[:,0]>=4]"
   ]
  },
  {
   "cell_type": "markdown",
   "metadata": {},
   "source": [
    "6. Access the 4th row of A. If this returns an error message, use Google to investigate the problem and find out what went wrong."
   ]
  },
  {
   "cell_type": "code",
   "execution_count": 17,
   "metadata": {},
   "outputs": [
    {
     "ename": "IndexError",
     "evalue": "index 3 is out of bounds for axis 0 with size 3",
     "output_type": "error",
     "traceback": [
      "\u001b[1;31m---------------------------------------------------------------------------\u001b[0m",
      "\u001b[1;31mIndexError\u001b[0m                                Traceback (most recent call last)",
      "\u001b[1;32m<ipython-input-17-e891f72a6bf7>\u001b[0m in \u001b[0;36m<module>\u001b[1;34m\u001b[0m\n\u001b[1;32m----> 1\u001b[1;33m \u001b[0mA\u001b[0m\u001b[1;33m[\u001b[0m\u001b[1;36m3\u001b[0m\u001b[1;33m,\u001b[0m \u001b[1;33m:\u001b[0m\u001b[1;33m]\u001b[0m\u001b[1;33m\u001b[0m\u001b[1;33m\u001b[0m\u001b[0m\n\u001b[0m\u001b[0;32m      2\u001b[0m \u001b[1;33m\u001b[0m\u001b[0m\n\u001b[0;32m      3\u001b[0m \u001b[1;31m# IndexError pops up when trying to access index that is outside of the array dimensions\u001b[0m\u001b[1;33m\u001b[0m\u001b[1;33m\u001b[0m\u001b[1;33m\u001b[0m\u001b[0m\n\u001b[0;32m      4\u001b[0m \u001b[1;31m# in our case, A only has three rows, so trying to access the 4th row results in an error\u001b[0m\u001b[1;33m\u001b[0m\u001b[1;33m\u001b[0m\u001b[1;33m\u001b[0m\u001b[0m\n",
      "\u001b[1;31mIndexError\u001b[0m: index 3 is out of bounds for axis 0 with size 3"
     ]
    }
   ],
   "source": [
    "A[3, :]\n",
    "\n",
    "# IndexError pops up when trying to access index that is outside of the array dimensions\n",
    "# in our case, A only has three rows, so trying to access the 4th row results in an error"
   ]
  },
  {
   "cell_type": "markdown",
   "metadata": {},
   "source": [
    "## Custom functions\n",
    "For many statistical applications it is practical to standardize variable values. One way to standardize is *centering and scaling*. In simple words, we make the variables comparable by reducing them to the same scale.\n",
    "\n",
    "Start with implementing a custom function. Your function should take an argument **x**. To keep things simple, we expect x to always be a numeric vector (and not text or a matrix, for example). In the body of the function, calculate the mean and standard deviation of **x**. Store the results in variables  **mu** and **std**, respectively. Then for each element in the vector, substract the mean and divide by the standard deviation.\n",
    "$$ x_{new} = \\frac{x-\\mu}{std}$$\n",
    "Make sure your functions **returns** the standardized vector (i.e., $x_new$ in the equation) as result. You might want to import `NumPy` for calculating the mean and standard deviation."
   ]
  },
  {
   "cell_type": "code",
   "execution_count": 18,
   "metadata": {},
   "outputs": [],
   "source": [
    "def scaling(x):\n",
    "    if all([type(element) == int or type(element) == np.int32 for element in x]):\n",
    "        mu = np.mean(x)\n",
    "        std = np.std(x)\n",
    "        x_new = (x-mu)/std\n",
    "        return x_new\n",
    "    else:\n",
    "        return \"input not numeric\""
   ]
  },
  {
   "cell_type": "code",
   "execution_count": 19,
   "metadata": {},
   "outputs": [],
   "source": [
    "def standardize(x):\n",
    "  '''\n",
    "  Substracts mean and divides by standard deviation\n",
    "\n",
    "  Input: \n",
    "  - x (numeric numpy array)\n",
    "\n",
    "  Output:\n",
    "  - x_new (standardized numeric numpy array)\n",
    "  '''\n",
    "\n",
    "  import numpy as np\n",
    "\n",
    "  mu  = np.mean(x)\n",
    "  std = np.std(x)\n",
    "\n",
    "  x_new = (x - mu) / std\n",
    "\n",
    "  return x_new\n",
    "\n",
    "  # when defining a function, it is always useful to provide a docstring, which is\n",
    "  # a comment snippet in the following format: '''comment'''. It is common practice\n",
    "  # to specify the goal of the function as well as its inputs, outputs and arguments."
   ]
  },
  {
   "cell_type": "markdown",
   "metadata": {},
   "source": [
    "You should always test your functions. Create a vector **a** with the elements (-100, -25, -10, 0, 10, 25, 100) and check if your function produces the correct result.     "
   ]
  },
  {
   "cell_type": "code",
   "execution_count": 21,
   "metadata": {},
   "outputs": [
    {
     "data": {
      "text/plain": [
       "array([-1.80648921, -0.4516223 , -0.18064892,  0.        ,  0.18064892,\n",
       "        0.4516223 ,  1.80648921])"
      ]
     },
     "execution_count": 21,
     "metadata": {},
     "output_type": "execute_result"
    }
   ],
   "source": [
    "a =  [-100, -25, -10, 0, 10, 25, 100]\n",
    "all([type(element) == int for element in a])\n",
    "scaling(a)\n",
    "#standardize(a)"
   ]
  },
  {
   "cell_type": "code",
   "execution_count": 108,
   "metadata": {},
   "outputs": [
    {
     "data": {
      "text/plain": [
       "array([-1.80648921, -0.4516223 , -0.18064892,  0.        ,  0.18064892,\n",
       "        0.4516223 ,  1.80648921])"
      ]
     },
     "execution_count": 108,
     "metadata": {},
     "output_type": "execute_result"
    }
   ],
   "source": [
    "a = np.array([-100, -25, -10, 0, 10, 25, 100])\n",
    "#a.isnumeric()\n",
    "scaling(a)\n"
   ]
  },
  {
   "cell_type": "markdown",
   "metadata": {},
   "source": [
    "*Optional*: Create a vector **b** with elements (\"1\", \"2\", \"3\") and check the function. Let's include a simple check in the function and give feedback. Before doing any calculations, use `if()` and `type()` to check if the input is a numeric vector. There are many ways to code the condition *x is numeric* in Python. Run a quick web search and use a simple approach. If the input is not numeric, skip the computations and print a message \"input not numeric\"."
   ]
  },
  {
   "cell_type": "code",
   "execution_count": 22,
   "metadata": {},
   "outputs": [],
   "source": [
    "# when working with numpy arrays, one way to check if input is numeric is to use \n",
    "# np.dtype() to query the array type, and use np.issubdtype() to check if the type\n",
    "# belongs to a parent type (see https://numpy.org/doc/stable/reference/arrays.scalars.html \n",
    "# for hierarchy). In our case, we will check if an array belongs to a type np.number\n",
    "\n",
    "def standardize(x):\n",
    "  '''\n",
    "  Substracts mean and divides by standard deviation\n",
    "\n",
    "  Input: \n",
    "  - x (numeric numpy array)\n",
    "\n",
    "  Output:\n",
    "  - x_new (standardized numeric numpy array)\n",
    "  '''\n",
    "\n",
    "  import numpy as np\n",
    "\n",
    "  # stop execution if array is not numeric\n",
    "  if not np.issubdtype(x.dtype, np.number): \n",
    "      print('Input not numeric. Received array of type:', x.dtype)\n",
    "      return\n",
    "\n",
    "  mu  = np.mean(x)\n",
    "  std = np.std(x)\n",
    "\n",
    "  x_new = (x - mu) / std\n",
    "\n",
    "  return x_new"
   ]
  },
  {
   "cell_type": "code",
   "execution_count": 26,
   "metadata": {},
   "outputs": [
    {
     "data": {
      "text/plain": [
       "'input not numeric'"
      ]
     },
     "execution_count": 26,
     "metadata": {},
     "output_type": "execute_result"
    }
   ],
   "source": [
    "b = np.array([\"1\", \"2\", \"3\"])\n",
    "scaling(b)\n",
    "#standardize(b)"
   ]
  },
  {
   "cell_type": "markdown",
   "metadata": {},
   "source": [
    "## Data structures \n",
    "Say you want to keep track of the members of the four houses of the famous Hogwarts School of Witchcraft and Wizardry. What might be a suitable data structure. We create a dictionary named **hogwarts** and use the names of the houses as keys. Then, the values associated with those keys could be any type that supports storing a set of strings, i.e., to store the names of the members. Draw on your knowledge of Python dictionaries and list to implement such a data structure. Populate the dictionary with the following data, and feel free to add more characters if you wish. \n",
    "\n",
    "- Gryffindor: I'm sure you know many members of that house \n",
    "- Hufflepuff: notable members include Newt Scamander, Cedric Diggory and Nymphadora Tonks\n",
    "- Ravenclaw: here we've got, e.g. Luna Lovegood, Gilderoy Lockhart and Filius Flitwick\n",
    "- Slytherin: Draco Malfoy, Vincent Crabbe, Gregory Goyle, and of course the one that must not be named"
   ]
  },
  {
   "cell_type": "code",
   "execution_count": 27,
   "metadata": {},
   "outputs": [
    {
     "data": {
      "text/plain": [
       "{'Gryffindor': ['Harry Potter', 'Ron Weasley', 'Hermione Granger'],\n",
       " 'Hufflepuff': ['Newt Scamander', 'Cedric Diggory', 'Nymphadora Tonks'],\n",
       " 'Ravenclaw': ['Luna Lovegood', 'Gilderoy Lockhart', 'Filius Flitwick'],\n",
       " 'Slytherin': ['Draco Malfoy',\n",
       "  'Vincent Crabbe',\n",
       "  'Gregory Goyle',\n",
       "  'Tom Riddle']}"
      ]
     },
     "execution_count": 27,
     "metadata": {},
     "output_type": "execute_result"
    }
   ],
   "source": [
    "hogwarts = {'Gryffindor': ['Harry Potter', 'Ron Weasley', 'Hermione Granger'],\n",
    "            'Hufflepuff': ['Newt Scamander', 'Cedric Diggory', 'Nymphadora Tonks'],\n",
    "            'Ravenclaw':  ['Luna Lovegood', 'Gilderoy Lockhart', 'Filius Flitwick'],\n",
    "            'Slytherin':  ['Draco Malfoy', 'Vincent Crabbe', 'Gregory Goyle', 'Tom Riddle']\n",
    "            }\n",
    "hogwarts"
   ]
  },
  {
   "cell_type": "markdown",
   "metadata": {},
   "source": [
    "Dictionaries are really useful. Still our above data structure is limited. We can only store the name of a witch or wizard. Wouldn't it be cool to be able to store more information, something like her/his favored charm, best friend, pet, etc. \n",
    "\n",
    "Think about how we could realize this functionality. Well, we could create yet another dictionary in which we use a witch's/wizard's name as key and as value some some other data structure in which we can store all the details we like. To our knowledge, the names of witches / wizards are unique in the Harry Potter universe, so that names could serve as (unique) keys; nerd alert. Still a dictionary of dictionaries sounds pretty complicated. In fact, the task we described above is a perfect use case of customer classes. They allow us to store any piece of information about a person at one place.\n",
    "\n",
    "Create a custom class wizard that facilitates storing the following properties:\n",
    "- First name\n",
    "- Last name\n",
    "- Pet\n",
    "- Pet name\n",
    "- Patronus shape\n",
    "\n",
    "\n",
    "Also implement a method `tell_pet()`that prints an output of the following format:\n",
    "*\"Harry Potter's owl is called Hedwig.\"* \n",
    "\n",
    "Implement one more  method `expecto_patronum()`. Calling that method for Harry would produce the output (print):\n",
    "*\"A stag appears.\"*"
   ]
  },
  {
   "cell_type": "code",
   "execution_count": 28,
   "metadata": {},
   "outputs": [],
   "source": [
    "class wizard():\n",
    "    \"\"\"Class for wizards.\"\"\"\n",
    "    def __init__(self,first_name, last_name, pet, pet_name, patronus_shape):\n",
    "        self.first_name = first_name\n",
    "        self.last_name = last_name\n",
    "        self.pet = pet\n",
    "        self.pet_name = pet_name\n",
    "        self.patronus_shape = patronus_shape\n",
    "        \n",
    "    def tell_pet(self):\n",
    "        print(f\"{self.first_name} {self.last_name}'s {self.pet} is called {self.pet_name}\")\n",
    "    \n",
    "    def expecto_patronum(self):\n",
    "        print(f\"A {self.patronus_shape} appears.\")"
   ]
  },
  {
   "cell_type": "code",
   "execution_count": null,
   "metadata": {},
   "outputs": [],
   "source": [
    "class wizard():\n",
    "\n",
    "    '''Custom wizard class that stores relevant wizard information'''\n",
    "\n",
    "    def __init__(self,        \n",
    "                 first_name,             \n",
    "                 last_name,\n",
    "                 pet            = None,\n",
    "                 pet_name       = None,\n",
    "                 patronus_shape = None): # first and last name have to be specifed; pet and patronus data is set to None by default \n",
    "\n",
    "        # assign attributes\n",
    "        self.first_name     = first_name \n",
    "        self.last_name      = last_name \n",
    "        self.pet            = pet \n",
    "        self.pet_name       = pet_name \n",
    "        self.patronus_shape = patronus_shape \n",
    "\n",
    "        \n",
    "    def tell_pet(self): \n",
    "\n",
    "        '''Method for printing the pet information'''\n",
    "\n",
    "        # there are several ways to print the required statement\n",
    "        # one way is to use the so-called f strings; we will use .format() syntax\n",
    "        print('{} {}\\'s {} is called {}.'.format(self.first_name, self.last_name, self.pet, self.pet_name))\n",
    "        return None\n",
    "\n",
    "\n",
    "    def expecto_patronum(self): \n",
    "\n",
    "        '''Method for summoning a patronum'''\n",
    "\n",
    "        print('A {} appears.'.format(self.patronus_shape))\n",
    "        return None"
   ]
  },
  {
   "cell_type": "code",
   "execution_count": 29,
   "metadata": {},
   "outputs": [
    {
     "name": "stdout",
     "output_type": "stream",
     "text": [
      "Harry Potter's owl is called Hedwig\n"
     ]
    }
   ],
   "source": [
    "harry = wizard(\"Harry\", \"Potter\", \"owl\", \"Hedwig\", \"stag\")\n",
    "harry.tell_pet()"
   ]
  },
  {
   "cell_type": "code",
   "execution_count": 30,
   "metadata": {},
   "outputs": [
    {
     "name": "stdout",
     "output_type": "stream",
     "text": [
      "A stag appears.\n"
     ]
    }
   ],
   "source": [
    "harry.expecto_patronum()"
   ]
  },
  {
   "cell_type": "markdown",
   "metadata": {},
   "source": [
    "Update your dictionary with schools and their members. Instead of storing a list of names as values, your new dictionary should store a list of instances of the class wizard. Note that you need to create these instances first. So you need to create an instance of class wizard for Harry, another one for Ron, Malfoy, etc. In case your knowledge of the Potter universe is a bit shaky, just invent the data you need. Just in case, [here is a ittle refresher of the expecto patronum spell](https://www.insider.com/harry-potter-characters-patronus-2018-11)."
   ]
  },
  {
   "cell_type": "code",
   "execution_count": 4,
   "metadata": {},
   "outputs": [],
   "source": [
    "HermioneGranger = wizard(\"Hermione\", \"Granger\", \"rabbit\", \"Bunny\", \"xyu\")\n",
    "newt = wizard(\"Newt\", \"Scamander\", \"xyz\", \"lulu\", \"rabbit\")\n",
    "luna = wizard(\"luna\", \"Lovegood\", \"bird\", \"birdy\", \"mouse\")\n",
    "draco = wizard(\"Draco\", \"Malfoy\", \"snake\", \"snakey\", \"anaconda\")"
   ]
  },
  {
   "cell_type": "code",
   "execution_count": null,
   "metadata": {},
   "outputs": [],
   "source": [
    "hogwarts.update({\"Gryffindor\":[harry, hermione],\"Hufflepuff\": [newt],\"Ravenclaw\": [luna], \"Slytherin\":[draco]})\n",
    "hogwarts[\"Gryffindor\"][0].expecto_patronum()"
   ]
  },
  {
   "cell_type": "code",
   "execution_count": 31,
   "metadata": {},
   "outputs": [],
   "source": [
    "HarryPotter = wizard(first_name     = 'Harry',\n",
    "                     last_name      = 'Potter',\n",
    "                     pet            = 'owl',\n",
    "                     pet_name       = 'Hedwig',\n",
    "                     patronus_shape = 'stag')\n",
    "\n",
    "RonWeasly = wizard(first_name     = 'Ron',\n",
    "                   last_name      = 'Weasley',\n",
    "                   pet            = 'rat',\n",
    "                   pet_name       = 'Scabbers',\n",
    "                   patronus_shape = 'dog')\n",
    "\n",
    "HermioneGranger = wizard(first_name      = 'Hermione',\n",
    "                         last_name       = 'Granger',\n",
    "                         pet             = 'cat',\n",
    "                         pet_name        = 'Crookshanks',\n",
    "                         patronus_shape  = 'otter')"
   ]
  },
  {
   "cell_type": "code",
   "execution_count": 32,
   "metadata": {},
   "outputs": [],
   "source": [
    "# updating Gryffindor members in the dictionary\n",
    "# other houses can be created in the same fashion\n",
    "\n",
    "hogwarts['Gryffindor'] = [HarryPotter, RonWeasly, HermioneGranger]"
   ]
  },
  {
   "cell_type": "code",
   "execution_count": 33,
   "metadata": {},
   "outputs": [
    {
     "name": "stdout",
     "output_type": "stream",
     "text": [
      "Harry Potter's owl is called Hedwig\n"
     ]
    }
   ],
   "source": [
    "# check Harry's pet\n",
    "\n",
    "hogwarts['Gryffindor'][0].tell_pet()"
   ]
  },
  {
   "cell_type": "code",
   "execution_count": 34,
   "metadata": {},
   "outputs": [
    {
     "name": "stdout",
     "output_type": "stream",
     "text": [
      "A stag appears.\n"
     ]
    }
   ],
   "source": [
    "# check Harry's patronus\n",
    "\n",
    "hogwarts['Gryffindor'][0].expecto_patronum()"
   ]
  },
  {
   "cell_type": "markdown",
   "metadata": {},
   "source": [
    "## Well done!!!"
   ]
  }
 ],
 "metadata": {
  "kernelspec": {
   "display_name": "Python 3",
   "language": "python",
   "name": "python3"
  },
  "language_info": {
   "codemirror_mode": {
    "name": "ipython",
    "version": 3
   },
   "file_extension": ".py",
   "mimetype": "text/x-python",
   "name": "python",
   "nbconvert_exporter": "python",
   "pygments_lexer": "ipython3",
   "version": "3.8.3"
  }
 },
 "nbformat": 4,
 "nbformat_minor": 4
}
