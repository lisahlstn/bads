{
  "nbformat": 4,
  "nbformat_minor": 0,
  "metadata": {
    "colab": {
      "name": "2_nb_descriptive_analytics.ipynb",
      "provenance": [],
      "collapsed_sections": [
        "Bdho4OZir6O7",
        "PdBezwLheDGy",
        "LBLlvv2AIfB1",
        "xoMdrnT5rnKP"
      ]
    },
    "kernelspec": {
      "display_name": "Python 3",
      "language": "python",
      "name": "python3"
    },
    "language_info": {
      "codemirror_mode": {
        "name": "ipython",
        "version": 3
      },
      "file_extension": ".py",
      "mimetype": "text/x-python",
      "name": "python",
      "nbconvert_exporter": "python",
      "pygments_lexer": "ipython3",
      "version": "3.7.6"
    }
  },
  "cells": [
    {
      "cell_type": "markdown",
      "metadata": {
        "id": "JW8q2Hxl3thA"
      },
      "source": [
        "[![Open In Colab](https://colab.research.google.com/assets/colab-badge.svg)](https://colab.research.google.com/github/Humboldt-WI/bads/blob/master/tutorials/2_nb_descriptive_analytics.ipynb) "
      ]
    },
    {
      "cell_type": "markdown",
      "metadata": {
        "id": "_55XGJ5Krxox"
      },
      "source": [
        "# Chapter 2 - Foundations of descriptive analytics\n",
        "The second lecture has offered an overview of the field of descriptive analytics. Out of the space of methods for descriptive analytics, the lecture concentrated on cluster analysis. Given this focus in the lecture, the tutorial will revisit the **kMeans** algorithm and deepen our understanding how it segments a given data set. This will also help us to introduce some more Python functionality and further develop our understanding of Python programming and relevant libraries. \n",
        "\n",
        "*Need to remember that Notebooks are a blend of text, and code, and results*\n",
        "\n",
        "Here is the outline of the tutorial:\n",
        "*   Generating data for cluster analysis \n",
        "*   kMeans Algorithm from Scratch\n",
        "*   kMeans Algorithm using sklearn\n",
        "*   Finding the optimal \"k\""
      ]
    },
    {
      "cell_type": "markdown",
      "metadata": {
        "id": "o-wD7vGxHFa5"
      },
      "source": [
        "# Cluster Analysis\n",
        "\n",
        "Cluster analysis is a good example of unsupervised machine learning or machine learning with unlabelled data (no specified target variable). Unsupervised learning algorithms attempt to group observations based on their similarities in features values. In the end, we can try to describe clusters and how they differ from one another. That task, however, is not supported by the algorithm and requires domain expertise. \n",
        "\n",
        "An example of this application could be analyzing data from a survey. We may have several distinct groups of potential buyers who reveal distinct preferences through their choices. Cluster analysis can be applied based on their choices to group similar responses and we can then characterize groups to determine marketing efforts."
      ]
    },
    {
      "cell_type": "markdown",
      "metadata": {
        "id": "d8BjFh5UsQel"
      },
      "source": [
        "## Data Generation for cluster analysis\n",
        "\n",
        "In order to verify that this method of analysis works, we can generate data using sklearn. The function `make_blob()` allows us to create a data for clustering. In a nutshell, we generate data from two Gaussian distribution. The function allows specifying the parameters of these Gaussians. This way, we can decide how similar how dissimilar or dissimilar we want our data to be. Have a look at the [documentation](https://scikit-learn.org/stable/modules/generated/sklearn.datasets.make_blobs.html) of appreciate the full functionality of the function. "
      ]
    },
    {
      "cell_type": "code",
      "metadata": {
        "id": "whNm-Zlud3WV"
      },
      "source": [
        "import numpy as np\n",
        "import matplotlib.pyplot as plt\n",
        "import pandas as pd\n",
        "from sklearn.datasets import make_blobs\n",
        "\n",
        "np.random.seed(888)"
      ],
      "execution_count": 113,
      "outputs": []
    },
    {
      "cell_type": "code",
      "metadata": {
        "id": "A_daZwJTuzrj"
      },
      "source": [
        "# Generate data in two dimensions using make_blobs:\n",
        "\n",
        "# Let us first specify some parameters. It is good practice to play with these and verify the effect of such changes\n",
        "n = 500 # no. samples\n",
        "centers = [(-2, -2), (2, 2)]  # centers of the two Gaussian\n",
        "std = 2  # standard deviaton\n",
        "\n",
        "# Call the function and obtain your data\n",
        "X, y = make_blobs(n_samples=n, centers=centers, cluster_std=std)"
      ],
      "execution_count": 114,
      "outputs": []
    },
    {
      "cell_type": "code",
      "metadata": {
        "id": "cBv9f-9zvNsK",
        "outputId": "579c9bec-581a-42f4-bf16-ccbb23cc91c5",
        "colab": {
          "base_uri": "https://localhost:8080/"
        }
      },
      "source": [
        "X.shape, y.shape # ensure shape is as expected"
      ],
      "execution_count": 54,
      "outputs": [
        {
          "output_type": "execute_result",
          "data": {
            "text/plain": [
              "((500, 2), (500,))"
            ]
          },
          "metadata": {
            "tags": []
          },
          "execution_count": 54
        }
      ]
    },
    {
      "cell_type": "code",
      "metadata": {
        "id": "y6-pFsiVvMxI",
        "outputId": "a1a247c0-717e-4dc8-f523-e7b1a4dcf160",
        "colab": {
          "base_uri": "https://localhost:8080/"
        }
      },
      "source": [
        "X[:5] # since X is a NumPy array, use slicing to inspect the data instead of .head() as we would for a pandas DataFrame"
      ],
      "execution_count": 55,
      "outputs": [
        {
          "output_type": "execute_result",
          "data": {
            "text/plain": [
              "array([[ 1.76096244,  3.95384313],\n",
              "       [ 5.29763572,  5.43093718],\n",
              "       [-0.36931499,  2.29195845],\n",
              "       [-4.09798335, -2.15024118],\n",
              "       [ 2.29986766,  3.09928519]])"
            ]
          },
          "metadata": {
            "tags": []
          },
          "execution_count": 55
        }
      ]
    },
    {
      "cell_type": "markdown",
      "metadata": {
        "id": "4yyrAl7yMCsi"
      },
      "source": [
        "The function `make_blobs()` also provides a **true cluster assignment** for every data point in the array `y`. By the way we called that function, we have implicitly asked it to create data points for two different clusters. Make sure you understand how that has happened. Which part of the above code would we need to change and how to generate data from, say three different clusters? Check the documentation of `make_blobs()` and/or run a web search to answer this question. As always, it is good practice to play with out demo codes. Try generating and plotting data from three, four, or five different clusters."
      ]
    },
    {
      "cell_type": "code",
      "metadata": {
        "id": "rvHcRZSMQixu",
        "outputId": "8a4dd087-a78d-4049-edaa-8d6fbff91b7c",
        "colab": {
          "base_uri": "https://localhost:8080/"
        }
      },
      "source": [
        "y[:5] # true cluster assignment for each data point"
      ],
      "execution_count": 56,
      "outputs": [
        {
          "output_type": "execute_result",
          "data": {
            "text/plain": [
              "array([1, 1, 1, 0, 1])"
            ]
          },
          "metadata": {
            "tags": []
          },
          "execution_count": 56
        }
      ]
    },
    {
      "cell_type": "markdown",
      "metadata": {
        "id": "uwdTYN3oMCsm"
      },
      "source": [
        "A picture says more than a thousand words, they say. So let's take a look at our data. Fortunately, we created two-dimensional data so plotting should be easy. We can make use of the variable `y` to color the plot. Recall that the array `y`, which is of the same length as X that specifies, for each data point, to which Gaussian (i.e., cluster) it belongs."
      ]
    },
    {
      "cell_type": "code",
      "metadata": {
        "id": "dLKDDcECMCsm",
        "outputId": "815e7cba-8a58-4389-8c30-a8561a803aea",
        "colab": {
          "base_uri": "https://localhost:8080/",
          "height": 269
        }
      },
      "source": [
        "plt.scatter(X[:,0],X[:,1], c=y);  # note the coloring of the data points using the label y"
      ],
      "execution_count": 57,
      "outputs": [
        {
          "output_type": "display_data",
          "data": {
            "image/png": "[encoded data removed]",
            "text/plain": [
              "<Figure size 432x288 with 1 Axes>"
            ]
          },
          "metadata": {
            "tags": [],
            "needs_background": "light"
          }
        }
      ]
    },
    {
      "cell_type": "markdown",
      "metadata": {
        "id": "pSq6MXgyMCsp"
      },
      "source": [
        "Ok, given the way in which we generated our data, kMeans should have an easy go with it. Play a bit with the parameters that we set above and inspect how the graph (i.e., the data) changes. You can make the clustering task easier or harder. \n",
        "\n",
        "Just for fun, we can also verify the (true) mean vectors."
      ]
    },
    {
      "cell_type": "code",
      "metadata": {
        "id": "Ytt_jOhfM8JB",
        "outputId": "b8ac349b-155c-4698-a6a3-26c7b42314e3",
        "colab": {
          "base_uri": "https://localhost:8080/"
        }
      },
      "source": [
        "np.mean(X[y == 1], axis=0) # there are two groups based on y values, here are the mean values for each feature for y=1"
      ],
      "execution_count": 58,
      "outputs": [
        {
          "output_type": "execute_result",
          "data": {
            "text/plain": [
              "array([1.86642478, 1.97163802])"
            ]
          },
          "metadata": {
            "tags": []
          },
          "execution_count": 58
        }
      ]
    },
    {
      "cell_type": "code",
      "metadata": {
        "id": "UCd4IrioNTg4",
        "outputId": "6e567792-c46c-436e-cd42-2b9ac85536f7",
        "colab": {
          "base_uri": "https://localhost:8080/"
        }
      },
      "source": [
        "np.mean(X[y == 0], axis=0) # here are the mean values for each feature for y=0"
      ],
      "execution_count": 59,
      "outputs": [
        {
          "output_type": "execute_result",
          "data": {
            "text/plain": [
              "array([-2.03509294, -2.11948296])"
            ]
          },
          "metadata": {
            "tags": []
          },
          "execution_count": 59
        }
      ]
    },
    {
      "cell_type": "markdown",
      "metadata": {
        "id": "NlHawULKMCsx"
      },
      "source": [
        "Well, the data was generated randomly. So some variation is to be expected. If you increase the size of the sample, then the means should approach the values we set above for the parameter `centers`. In case this statement somewhat puzzles you, pause for a while, re-read the previous explanations and codes, and convince yourself that the empirical mean values for the two clusters should approach [-2, -2] and [2, 2], respectively."
      ]
    },
    {
      "cell_type": "markdown",
      "metadata": {
        "id": "dRPjqtQpHhBr"
      },
      "source": [
        "# The kMeans algorithm\n",
        "\n",
        "The kMeans algorithm is an established and widely used method for clustering. Much more sophisticated algorithms exist, many of which are readily available in Python libraries. However, it is good practice to start simple. For the purpose of BADS, knowing kMeans and what clustering in general can do for us is enough. \n",
        "\n",
        "kMeans belongs to the family of non-hierarchical cluster analysis methods. K random centroids are created somewhere in the feature space. Then, all data points are assigned to the **nearest centroid** (using some measure of distance). This assignment provides an **initial cluster solution**. Every data point is attached to one cluster. Based on this cluster solution, we **update the centroids**. More specifically, we calculate the updated centroid of each cluster by finding the **empirical mean of the features** across all data points are attachted to that cluster.  After updating the centroids, we repeat the assignment of data points to the nearest (updated) centroid. The **twp-phase process** of updating centroids given a cluster solution, and updating cluster solutions given centroids **repeats** itself until some stopping criterion is met. For example, we can terminate the algorithm once we observe that cluster solutions/centroids stop changing. \n",
        "\n",
        "The results of kMeans, that is the cluster solution, may differ based on the initial random selection of centroids. Therefore, it is important to invoke the algorithm multiple times with different random starting points. Then, we can average over all runs in the end or select the *best*, in terms of objective value, cluster solution. Recall that the best solution is the one in which the total sum of the the intra-cluster variances is smallest. "
      ]
    },
    {
      "cell_type": "markdown",
      "metadata": {
        "id": "Bdho4OZir6O7"
      },
      "source": [
        "## kMeans from scratch\n",
        "We will first implement a couple of function that take care of individual steps in the kMeans algorithm. Afterwards, the function `KMeans_from_scratch()` glues all parts together and represents our customer implementation of the algorithm. Note that in our implementation, we do not start from an artificially created random centroid. Instead, we randomly select one data point per cluster and define this random data point to be the first centroid. Watch out for the call to the function `np.random.choice()` in the below code, which implements this step."
      ]
    },
    {
      "cell_type": "code",
      "metadata": {
        "id": "6UrZO-nPd4zW"
      },
      "source": [
        "def euclidean_distance(a, b):\n",
        "    return np.sqrt(np.sum((a - b)**2)) # other distance measures also possible"
      ],
      "execution_count": 60,
      "outputs": []
    },
    {
      "cell_type": "code",
      "metadata": {
        "id": "798DJYmzc7tQ"
      },
      "source": [
        "def label_cluster(n_samples, clusters):\n",
        "    \"\"\"each sample will get the label of the cluster it was assigned to\"\"\"\n",
        "    labels = np.empty(n_samples) # creates empty array as long as samples for future labels\n",
        "\n",
        "    for cluster_idx, cluster in enumerate(clusters):\n",
        "        for sample_index in cluster:\n",
        "            labels[sample_index] = cluster_idx # assign labels to each sample\n",
        "    return labels"
      ],
      "execution_count": 61,
      "outputs": []
    },
    {
      "cell_type": "code",
      "metadata": {
        "id": "ynzFhyNkc-Qv"
      },
      "source": [
        "def create_clusters(K, X, centroids):\n",
        "    \"\"\"Assign the samples to the closest centroids to create clusters\"\"\"\n",
        "    clusters = [[] for _ in range(K)] # creates a list of K number of lists\n",
        "    for idx, sample in enumerate(X):\n",
        "        centroid_idx = find_closest_centroid(sample, centroids) # find closest centroid for each sample\n",
        "        clusters[centroid_idx].append(idx) # create index list of closest centroids\n",
        "    return clusters"
      ],
      "execution_count": 25,
      "outputs": []
    },
    {
      "cell_type": "code",
      "metadata": {
        "id": "5or9vgnpdAqx"
      },
      "source": [
        "def find_closest_centroid(sample, centroids):\n",
        "    \"\"\"Distance from each sample to every centroid\"\"\"\n",
        "    distances = [euclidean_distance(sample, point) for point in centroids] # calculate distance from each sample to each centroid\n",
        "    closest_index = np.argmin(distances) # take closest centroid (one with minimal distance)\n",
        "    return closest_index"
      ],
      "execution_count": 26,
      "outputs": []
    },
    {
      "cell_type": "code",
      "metadata": {
        "id": "BL8I6bUqdDH3"
      },
      "source": [
        "def update_centroids(X, K, n_features, clusters):\n",
        "    \"\"\"Assign mean value of cluster features to each centroid\"\"\"\n",
        "    centroids = np.zeros((K, n_features))\n",
        "    for cluster_idx, cluster in enumerate(clusters):\n",
        "        cluster_mean = np.mean(X[cluster,:], axis=0) # find new centroid by finding mean of all points assigned to centroid\n",
        "        centroids[cluster_idx] = cluster_mean # collect all centroids\n",
        "    return centroids"
      ],
      "execution_count": 27,
      "outputs": []
    },
    {
      "cell_type": "code",
      "metadata": {
        "id": "ojIQU_I7dGMo"
      },
      "source": [
        "def is_converged(centroids_old, centroids, K):\n",
        "    \"\"\"Check if centroids have changed since last iteration\"\"\"\n",
        "    distances = [euclidean_distance(centroids_old[i], centroids[i]) for i in range(K)] # check distance between old and new centroids\n",
        "    return sum(distances) == 0 # return Boolean indicating whether centroids are the same as before or not"
      ],
      "execution_count": 28,
      "outputs": []
    },
    {
      "cell_type": "code",
      "metadata": {
        "id": "OIsH4enGckw8"
      },
      "source": [
        "def KMeans_from_scratch(X, K=5, max_iters=100):\n",
        "    \"\"\"Choose a random set of centroids then optimise using above functions\"\"\"\n",
        "    n_samples, n_features = X.shape\n",
        "    \n",
        "    # Initialization \n",
        "    random_sample_idx = np.random.choice(n_samples, K, replace=False) # take random sample points to be initial clusters\n",
        "    centroids = [X[idx] for idx in random_sample_idx] # label these points as centroids\n",
        "\n",
        "    iteration_num = 0 # initialize iteration tracker\n",
        "\n",
        "    # Optimization\n",
        "    for iteration in range(max_iters):\n",
        "        \n",
        "        iteration_num += 1 # track iterations required\n",
        "\n",
        "        clusters = create_clusters(K, X, centroids) # assignment to closest centroids (cluster creation)\n",
        "\n",
        "        centroids_old = centroids # archive previous centroids\n",
        "        centroids = update_centroids(X, K, n_features, clusters) # Updating centroids \n",
        "        \n",
        "        # Convergence Confirmation\n",
        "        if is_converged(centroids_old, centroids, K): # check if last iteration's centroids were the same as current iteration\n",
        "            labels = label_cluster(n_samples, clusters)\n",
        "            dist = [euclidean_distance(X[row_num], centroids[int(labels[row_num])]) for row_num in range(X.shape[0])] # get distance from each point to its centroid\n",
        "            total_dist = np.sum(np.square(dist)) # total distance calculated as sum of squares\n",
        "            break # exit loop since there was no change since last iteration\n",
        "\n",
        "    # Classify samples as the index of their clusters\n",
        "    return labels, iteration_num, K, centroids, total_dist"
      ],
      "execution_count": 29,
      "outputs": []
    },
    {
      "cell_type": "code",
      "metadata": {
        "id": "C53bNvVIl400"
      },
      "source": [
        "result = KMeans_from_scratch(X, K=2, max_iters=100)"
      ],
      "execution_count": 115,
      "outputs": []
    },
    {
      "cell_type": "code",
      "metadata": {
        "id": "oaG783ECIWpv",
        "outputId": "3e60a4a1-0997-4a2c-980f-5a11010c0fdb",
        "colab": {
          "base_uri": "https://localhost:8080/"
        }
      },
      "source": [
        "print(\"No. Iterations:\", result[1], \", No. Centres:\", result[2], \", Total Squared Distance {:.4}\".format(result[4]))"
      ],
      "execution_count": 77,
      "outputs": [
        {
          "output_type": "stream",
          "text": [
            "No. Iterations: 6 , No. Centres: 2 , Total Squared Distance 3.75e+03\n"
          ],
          "name": "stdout"
        }
      ]
    },
    {
      "cell_type": "code",
      "metadata": {
        "id": "C-KwQjtpEHbl",
        "outputId": "e0ae2b94-b997-4286-ef9b-fe99a889428e",
        "colab": {
          "base_uri": "https://localhost:8080/"
        }
      },
      "source": [
        "print(\"Centroid Coordinates:\", result[3]) # these display average value for each feature of the cluster"
      ],
      "execution_count": 78,
      "outputs": [
        {
          "output_type": "stream",
          "text": [
            "Centroid Coordinates: [[ 2.14419124  2.23119509]\n",
            " [-2.14840422 -2.31994392]]\n"
          ],
          "name": "stdout"
        }
      ]
    },
    {
      "cell_type": "markdown",
      "metadata": {
        "id": "PdBezwLheDGy"
      },
      "source": [
        "## kMeans and \"True\" Groups\n",
        "\n",
        "Let's see whether the kMeans function was able to distinguish the groups of y=1 and y=0. Recall that our synthetic data comes with true cluster memberships. However, kMeans does not know about these memberships. In the previous example, we only used our data matrix `X`. We never disclosed the cluster assignment vector `y` to kMeans. kMeans and other cluster methods operated a **unsupervised learners**. Therefore, we can now compare the way in which kMeans have segmented the data to the original true cluster memberships. This comes down to compare the cluster labels per data points, which our customer implementation returns in the array `labels`, the their true counterparts in the array `y`.\n",
        "\n",
        "Let's see if our results split on the y=1,0 groups or if the algorithm seems to have split the observations in a different way."
      ]
    },
    {
      "cell_type": "code",
      "metadata": {
        "id": "WR9UeYK5IdJF",
        "outputId": "1c4056cb-a77a-473d-c1de-56cc6bc719db",
        "colab": {
          "base_uri": "https://localhost:8080/"
        }
      },
      "source": [
        "result[0][:5] # classifications according to kMeans from scratch for the first five data points"
      ],
      "execution_count": 116,
      "outputs": [
        {
          "output_type": "execute_result",
          "data": {
            "text/plain": [
              "array([1., 0., 0., 1., 0.])"
            ]
          },
          "metadata": {
            "tags": []
          },
          "execution_count": 116
        }
      ]
    },
    {
      "cell_type": "code",
      "metadata": {
        "id": "WO4zDDnT-Hhy",
        "outputId": "61985025-21fc-44b7-9dd9-d1c9eb2bafec",
        "colab": {
          "base_uri": "https://localhost:8080/"
        }
      },
      "source": [
        "y[:5] # and the corresponding true group membership"
      ],
      "execution_count": 117,
      "outputs": [
        {
          "output_type": "execute_result",
          "data": {
            "text/plain": [
              "array([0, 1, 1, 0, 1])"
            ]
          },
          "metadata": {
            "tags": []
          },
          "execution_count": 117
        }
      ]
    },
    {
      "cell_type": "markdown",
      "metadata": {
        "id": "I4mQ_tNQSvAt"
      },
      "source": [
        "If you adjust the random seed at the top of this notebook, you may come across a situation where the kMeans function has accurately split the groups BUT flipped the labels. This is because kMeans chooses each group's labels at random.\n",
        "\n",
        "For example, the true y could be `[1,0,1,1...]` but kMeans will output `[0,1,0,0...]`. \n",
        "\n",
        "In order to correct for this, we can use the code below. We first create Boolean index of where `y` is equal to `0`. We then compare this new index to the values in those positions of the result. If we see that the kMeans result actually has a larger quantity of `1` labels in those positions, we can assume that kMeans happened to assign the opposite labels."
      ]
    },
    {
      "cell_type": "code",
      "metadata": {
        "id": "NBMwMyoYMQt_",
        "outputId": "3bb1f73b-f7ae-456f-881a-ad55d10ec5f3",
        "colab": {
          "base_uri": "https://localhost:8080/"
        }
      },
      "source": [
        "from collections import Counter\n",
        "\n",
        "# Get index values of where y is 0\n",
        "index_group_0 = y == 0\n",
        "\n",
        "# Create simpler array of results so we can correct if necessary\n",
        "result_corrected = result[0]\n",
        "\n",
        "# Create array of values from our kMeans results ONLY WHERE y is supposed to be 1\n",
        "label_0 = result_corrected[index_group_0]\n",
        "\n",
        "# If we see there are more labels of 1, flip the labels. Remember that ~ reverses Boolean values\n",
        "if Counter(label_0)[1] > Counter(label_0)[0]:\n",
        "  result_corrected = (~result_corrected.astype(bool)).astype(int)\n",
        "\n",
        "result_corrected[:5]"
      ],
      "execution_count": 118,
      "outputs": [
        {
          "output_type": "execute_result",
          "data": {
            "text/plain": [
              "array([0, 1, 1, 0, 1])"
            ]
          },
          "metadata": {
            "tags": []
          },
          "execution_count": 118
        }
      ]
    },
    {
      "cell_type": "markdown",
      "metadata": {
        "id": "fZjC7bsoMCtT"
      },
      "source": [
        "We asked you to make changes to the above code. Hence, your solution might be a little different from ours, depending on what and how much you changed. The data generated in the original (unchanged) version of the notebook was pretty simple to cluster. Therefore, you might also obtain a solution where the first five entries of `y` and `result` coincide; or are at least pretty similar. This is to be expected. Let's take a closer look. The following code makes use of the `collections` library and the class `Counter` in particular to count the number of cases in which a data point from cluster 0 ended up in cluster 1 and vice versa. Take a little time for fully understand the code. You will this is approach frequently when it comes to counting list elements."
      ]
    },
    {
      "cell_type": "code",
      "metadata": {
        "id": "6qqxzKWk80b1",
        "outputId": "10a8f33a-ca9b-4112-ee9e-3ef64bb8c869",
        "colab": {
          "base_uri": "https://localhost:8080/"
        }
      },
      "source": [
        "Counter(result_corrected[y == 1]) # note that there is still a large mix in this group, some features were uninformative, this could be misleading the kMeans function"
      ],
      "execution_count": 119,
      "outputs": [
        {
          "output_type": "execute_result",
          "data": {
            "text/plain": [
              "Counter({0: 18, 1: 232})"
            ]
          },
          "metadata": {
            "tags": []
          },
          "execution_count": 119
        }
      ]
    },
    {
      "cell_type": "code",
      "metadata": {
        "id": "MZBoAz-_IPl4",
        "outputId": "be76f26c-5da5-428f-82ed-b7e4fddcf104",
        "colab": {
          "base_uri": "https://localhost:8080/"
        }
      },
      "source": [
        "Counter(result_corrected[y == 0])"
      ],
      "execution_count": 120,
      "outputs": [
        {
          "output_type": "execute_result",
          "data": {
            "text/plain": [
              "Counter({0: 232, 1: 18})"
            ]
          },
          "metadata": {
            "tags": []
          },
          "execution_count": 120
        }
      ]
    },
    {
      "cell_type": "markdown",
      "metadata": {
        "id": "ajXZkotqP5MZ"
      },
      "source": [
        "Again, depending upon what kind of changes you made to the code, your results might be anything. For the original notebook version, we would expect to see that most data points were put into their *true cluster* while some errors were also made. This result stems from the fact that the synthetic data was easy to cluster. You can go back, change the code and increase the complexity of the clustering task. Before doing so, run the following code to plot your data one more time while highlighting the data points that have been put into the wrong cluster. I think it's fair to say that kMeans has been a fairly good  job."
      ]
    },
    {
      "cell_type": "code",
      "metadata": {
        "id": "9nIB5rbDMCta",
        "outputId": "ff010a5f-6f1f-4d44-df3d-0bb5f1364813",
        "colab": {
          "base_uri": "https://localhost:8080/",
          "height": 265
        }
      },
      "source": [
        "idx = result_corrected==y  # index of the correctly clustered data points\n",
        "plt.scatter(X[idx,0], X[idx,1], c=y[idx]);  # plot these points\n",
        "plt.scatter(X[~idx,0], X[~idx,1], c=y[~idx], edgecolor='red', linewidths=1);  # highlight wrongly clustered data points  "
      ],
      "execution_count": 133,
      "outputs": [
        {
          "output_type": "display_data",
          "data": {
            "image/png": "[encoded data removed]",
            "text/plain": [
              "<Figure size 432x288 with 1 Axes>"
            ]
          },
          "metadata": {
            "tags": [],
            "needs_background": "light"
          }
        }
      ]
    },
    {
      "cell_type": "markdown",
      "metadata": {
        "id": "LBLlvv2AIfB1"
      },
      "source": [
        "## Searching the optimal 'k'\n",
        "In our case, we can be *pretty sure* (caution: irony in progress) that the optimal value for parameter `k`is 2. Let's pretend we would not know this. We can then use the **elbow method** to determine a suitable setting for `k` by trial and error. To that end, we run the algorithm multiple times with different settings for parameter `k`. We can then plot settings of `k` on the x-axis against the total distance on the y-axis. Wherever we see a bend in the curve (i.e. an elbow), we can consider the corresponding setting of `k` a suitable setting. Anything past the bend of the curve would make the model unnecessarily complex. We would be adding more centroids (i.e., clusters), which we would need to interpret afterwards, without increasing homogeneity in the clusters a lot. \n",
        "\n",
        "The following codes illustrate the elbow method for candidate settings of $k=1, ..., 8$. Depending on the size of your data sample, the code might need a little while to run."
      ]
    },
    {
      "cell_type": "code",
      "metadata": {
        "id": "M2jNlBwPn-Bz",
        "outputId": "bca0c117-f69f-47ce-efd4-f485bb520a39",
        "colab": {
          "base_uri": "https://localhost:8080/"
        }
      },
      "source": [
        "# Run kMeans with settings k = 1, 2, ..., 8 and store resulting obejective values (total sum of squares) over clusters\n",
        "list_total_dist = []\n",
        "\n",
        "for i in range(1,9):\n",
        "  results = KMeans_from_scratch(X, K=i, max_iters=100)\n",
        "  list_total_dist.append(results[4])\n",
        "\n",
        "list_total_dist"
      ],
      "execution_count": null,
      "outputs": [
        {
          "output_type": "execute_result",
          "data": {
            "text/plain": [
              "[8163.666584332811,\n",
              " 3433.7021598689726,\n",
              " 2801.555768641046,\n",
              " 2279.2535751930395,\n",
              " 1784.448831431259,\n",
              " 1532.9141679280228,\n",
              " 1304.265831340534,\n",
              " 1091.0506955475812]"
            ]
          },
          "metadata": {
            "tags": []
          },
          "execution_count": 24
        }
      ]
    },
    {
      "cell_type": "code",
      "metadata": {
        "id": "8DYEo39PsG8k",
        "outputId": "b925c3d5-6108-4786-89eb-d44098f4bfda",
        "colab": {
          "base_uri": "https://localhost:8080/"
        }
      },
      "source": [
        "plt.plot(range(1,9), list_total_dist)\n",
        "plt.title(\"kMeans Elbow Curve\")\n",
        "plt.ylabel(\"Total Squared Distance\")\n",
        "plt.xlabel(\"K\")\n",
        "plt.show()"
      ],
      "execution_count": null,
      "outputs": [
        {
          "output_type": "display_data",
          "data": {
            "image/png": "[encoded data removed]",
            "text/plain": [
              "<Figure size 432x288 with 1 Axes>"
            ]
          },
          "metadata": {
            "tags": [],
            "needs_background": "light"
          }
        }
      ]
    },
    {
      "cell_type": "markdown",
      "metadata": {
        "id": "cP5gmS2bMCti"
      },
      "source": [
        "What a nice and clear elbow. Did we mention that you can change the codes and try them with a more challenging synthetic data set? Hint, hint... "
      ]
    },
    {
      "cell_type": "markdown",
      "metadata": {
        "id": "9h1igA87vxUz"
      },
      "source": [
        "# kMeans with sklearn\n",
        "\n",
        "As with the most popular machine learning algorithm, the library sklearn has an easy way to implement the kMeans algorithm. We simply have to import the KMeans function from the sklearn.cluster library.\n",
        "\n",
        "The documentation for this function can be found here: https://scikit-learn.org/stable/modules/generated/sklearn.cluster.KMeans.html. Once you create a KMeans object, you can use many methods and attributes to fit, predict and evaluate your model. We illustrate the steps below; essentially re-implementing the above example using only a few lines of code."
      ]
    },
    {
      "cell_type": "code",
      "metadata": {
        "id": "Ngg58FxZNnSJ"
      },
      "source": [
        "from sklearn.cluster import KMeans\n",
        "\n",
        "km = KMeans(n_clusters=2, init='random', n_init=20, max_iter=100, random_state=888) # create KMeans object with certain settings\n",
        "\n",
        "res = km.fit_predict(X) # fit to X and also predict labels of X, not using the easier X_simple"
      ],
      "execution_count": 121,
      "outputs": []
    },
    {
      "cell_type": "code",
      "metadata": {
        "id": "o5hbvjwaFRY3",
        "outputId": "10782e26-aeb5-4e11-a5bc-6996329befc6",
        "colab": {
          "base_uri": "https://localhost:8080/"
        }
      },
      "source": [
        "km.cluster_centers_ # here are the centroids for kMeans, these display average value for each feature of the cluster"
      ],
      "execution_count": 122,
      "outputs": [
        {
          "output_type": "execute_result",
          "data": {
            "text/plain": [
              "array([[ 2.14419124,  2.23119509],\n",
              "       [-2.14840422, -2.31994392]])"
            ]
          },
          "metadata": {
            "tags": []
          },
          "execution_count": 122
        }
      ]
    },
    {
      "cell_type": "code",
      "metadata": {
        "id": "2pwM6iieG269",
        "outputId": "aa7621e8-2b8d-4d86-b356-956bceab527c",
        "colab": {
          "base_uri": "https://localhost:8080/"
        }
      },
      "source": [
        "km.n_iter_ # this is the number of iterations required for stability in this solution"
      ],
      "execution_count": 123,
      "outputs": [
        {
          "output_type": "execute_result",
          "data": {
            "text/plain": [
              "5"
            ]
          },
          "metadata": {
            "tags": []
          },
          "execution_count": 123
        }
      ]
    },
    {
      "cell_type": "code",
      "metadata": {
        "id": "d3iIlQN5GtsW",
        "outputId": "8c852931-a87e-4095-ca72-3e3f0be1d331",
        "colab": {
          "base_uri": "https://localhost:8080/"
        }
      },
      "source": [
        "km.inertia_ # here is a value similar to total distance for the clusters"
      ],
      "execution_count": 124,
      "outputs": [
        {
          "output_type": "execute_result",
          "data": {
            "text/plain": [
              "3749.888659153607"
            ]
          },
          "metadata": {
            "tags": []
          },
          "execution_count": 124
        }
      ]
    },
    {
      "cell_type": "code",
      "metadata": {
        "id": "ChOU9xgnGoJE",
        "outputId": "e000a2b7-5526-468d-bea8-4fb3a198016b",
        "colab": {
          "base_uri": "https://localhost:8080/"
        }
      },
      "source": [
        "km.labels_[:10] # here are the labels for each observation from the clustering"
      ],
      "execution_count": 125,
      "outputs": [
        {
          "output_type": "execute_result",
          "data": {
            "text/plain": [
              "array([1, 0, 0, 1, 0, 1, 0, 0, 1, 1], dtype=int32)"
            ]
          },
          "metadata": {
            "tags": []
          },
          "execution_count": 125
        }
      ]
    },
    {
      "cell_type": "code",
      "metadata": {
        "id": "aRxdZ0J0MCtx",
        "outputId": "42502cdb-27fa-4085-f23d-c08c213080f5",
        "colab": {
          "base_uri": "https://localhost:8080/"
        }
      },
      "source": [
        "y[:10]  # here, the labels done by kMeans are consistent with our y values, they can sometimes be flipped so be careful"
      ],
      "execution_count": 126,
      "outputs": [
        {
          "output_type": "execute_result",
          "data": {
            "text/plain": [
              "array([0, 1, 1, 0, 1, 0, 1, 1, 0, 0])"
            ]
          },
          "metadata": {
            "tags": []
          },
          "execution_count": 126
        }
      ]
    },
    {
      "cell_type": "markdown",
      "metadata": {
        "id": "rj21fXNzWMMn"
      },
      "source": [
        "Again, sklearn may have correctly split groups but chooses labels for them arbitrarily. In case our groups do not correspond with the y labels, we can simply reverse the labels."
      ]
    },
    {
      "cell_type": "code",
      "metadata": {
        "id": "tvjsTbKMUr6F",
        "outputId": "990f9958-f9cc-4ae0-e76e-10cee70f25a1",
        "colab": {
          "base_uri": "https://localhost:8080/"
        }
      },
      "source": [
        "results_corrected_sk = km.labels_\n",
        "\n",
        "if Counter(label_0)[1] > Counter(label_0)[0]:\n",
        "  results_corrected_sk = (~results_corrected_sk.astype(bool)).astype(int)\n",
        "\n",
        "results_corrected_sk[:5]"
      ],
      "execution_count": 138,
      "outputs": [
        {
          "output_type": "execute_result",
          "data": {
            "text/plain": [
              "array([0, 1, 1, 0, 1])"
            ]
          },
          "metadata": {
            "tags": []
          },
          "execution_count": 138
        }
      ]
    },
    {
      "cell_type": "code",
      "metadata": {
        "id": "KKFYTdNk_L-_",
        "outputId": "42b4e7ba-38c2-48e7-dd9f-41f24a63cb7c",
        "colab": {
          "base_uri": "https://localhost:8080/"
        }
      },
      "source": [
        "Counter(results_corrected_sk[y == 1]) # we have a similar level of purity as we had before with the original dataset"
      ],
      "execution_count": 139,
      "outputs": [
        {
          "output_type": "execute_result",
          "data": {
            "text/plain": [
              "Counter({0: 18, 1: 232})"
            ]
          },
          "metadata": {
            "tags": []
          },
          "execution_count": 139
        }
      ]
    },
    {
      "cell_type": "code",
      "metadata": {
        "id": "t_oCmTjPFHPW",
        "outputId": "05d49a68-e4e2-408d-9524-7e8f77b7c1e6",
        "colab": {
          "base_uri": "https://localhost:8080/"
        }
      },
      "source": [
        "Counter(results_corrected_sk[y == 0])"
      ],
      "execution_count": 140,
      "outputs": [
        {
          "output_type": "execute_result",
          "data": {
            "text/plain": [
              "Counter({0: 232, 1: 18})"
            ]
          },
          "metadata": {
            "tags": []
          },
          "execution_count": 140
        }
      ]
    },
    {
      "cell_type": "markdown",
      "metadata": {
        "id": "kH_U6SEJMCt3"
      },
      "source": [
        "Unsurprisingly, the solutions from the `sklearn` implementation of the kMeans algorithm is not fundamentally different from that of our own implementation. How could it? You may have noted though that the `sklearn` code was a lot faster. Let's finish the demo with re-producing our scatter plot."
      ]
    },
    {
      "cell_type": "code",
      "metadata": {
        "id": "enx_fqiEMCt4",
        "outputId": "a1dac6be-24ec-4b5f-88dc-3d3de698010c",
        "colab": {
          "base_uri": "https://localhost:8080/",
          "height": 265
        }
      },
      "source": [
        "idx = results_corrected_sk == y  # index of the correctly clustered data points\n",
        "plt.scatter(X[idx, 0], X[idx, 1], c=y[idx]);  # plot these points\n",
        "plt.scatter(X[~idx, 0], X[~idx, 1], c=y[~idx], edgecolor='red', linewidths=1);  # highlight wrongly clustered data points  "
      ],
      "execution_count": 141,
      "outputs": [
        {
          "output_type": "display_data",
          "data": {
            "image/png": "[encoded data removed]",
            "text/plain": [
              "<Figure size 432x288 with 1 Axes>"
            ]
          },
          "metadata": {
            "tags": [],
            "needs_background": "light"
          }
        }
      ]
    },
    {
      "cell_type": "markdown",
      "metadata": {
        "id": "wFbVUVa9MCt6"
      },
      "source": [
        "Almost indistinguishable from the above plot. Nice."
      ]
    },
    {
      "cell_type": "markdown",
      "metadata": {
        "id": "xoMdrnT5rnKP"
      },
      "source": [
        "### Optimal K in sklearn\n",
        "\n",
        "We can perform the same elbow curve method on sklearn results. The `.inertia_` attribute on a fit kMeans object allows us to see the sum of squared distance between points and their centroid."
      ]
    },
    {
      "cell_type": "code",
      "metadata": {
        "id": "4PR63XZXq3jN",
        "outputId": "8de2e3d3-3ad6-40f2-b36d-79ebc9c02914",
        "colab": {
          "base_uri": "https://localhost:8080/"
        }
      },
      "source": [
        "list_total_dist_sklearn = []\n",
        "\n",
        "for i in range(1,9):\n",
        "  km = KMeans(n_clusters=i, init='random', n_init=10, max_iter=100, random_state=123) # go from 1 to 8 in the value of centroids\n",
        "  res = km.fit_predict(X)\n",
        "  list_total_dist_sklearn.append(km.inertia_) # check how inertia (~total distance) changes as we increase K\n",
        "\n",
        "list_total_dist_sklearn"
      ],
      "execution_count": null,
      "outputs": [
        {
          "output_type": "execute_result",
          "data": {
            "text/plain": [
              "[8163.666584332811,\n",
              " 3433.702159868973,\n",
              " 2754.22701630096,\n",
              " 2143.6936300799807,\n",
              " 1772.1889361680057,\n",
              " 1468.153144711754,\n",
              " 1268.2327468559765,\n",
              " 1093.4151497922]"
            ]
          },
          "metadata": {
            "tags": []
          },
          "execution_count": 35
        }
      ]
    },
    {
      "cell_type": "code",
      "metadata": {
        "id": "cFAKjIO-reEa",
        "outputId": "8e8c25c2-653d-4b2d-8001-e25d0122a3ae",
        "colab": {
          "base_uri": "https://localhost:8080/",
          "height": 295
        }
      },
      "source": [
        "plt.plot(range(1,9), list_total_dist_sklearn) # from this graph, we can see the sharpest bend at 2 again\n",
        "plt.title(\"kMeans Elbow Curve\")\n",
        "plt.ylabel(\"inertia\")\n",
        "plt.xlabel(\"K\")\n",
        "plt.show()"
      ],
      "execution_count": null,
      "outputs": [
        {
          "output_type": "display_data",
          "data": {
            "image/png": "[encoded data removed]",
            "text/plain": [
              "<Figure size 432x288 with 1 Axes>"
            ]
          },
          "metadata": {
            "tags": [],
            "needs_background": "light"
          }
        }
      ]
    },
    {
      "cell_type": "markdown",
      "metadata": {
        "id": "f8dCvgUXVZcR"
      },
      "source": [
        "Here again, we can see the sharpest kink at K=2. \n",
        "\n"
      ]
    },
    {
      "cell_type": "markdown",
      "metadata": {
        "id": "wkxJUyq4hMWG"
      },
      "source": [
        "# Conclusion\n",
        "\n",
        "kMeans is just one of a few powerful clustering functions whose applications can simplify groups found in data for analysis. While these algorithms can be very powerful, a good understanding of their strengths and weaknesses are critical for an accurate and meaningful analysis of the situation."
      ]
    }
  ]
}
